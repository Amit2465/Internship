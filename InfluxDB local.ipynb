{
 "cells": [
  {
   "cell_type": "markdown",
   "id": "0b71caef",
   "metadata": {},
   "source": [
    "# insert data in bucket"
   ]
  },
  {
   "cell_type": "code",
   "execution_count": 17,
   "id": "ccf712e2",
   "metadata": {},
   "outputs": [
    {
     "name": "stdout",
     "output_type": "stream",
     "text": [
      "Complete. Return to the InfluxDB UI.\n"
     ]
    }
   ],
   "source": [
    "import influxdb_client\n",
    "from influxdb_client import InfluxDBClient, Point, WritePrecision\n",
    "from influxdb_client.client.write_api import SYNCHRONOUS\n",
    "\n",
    "token =\"yRhZGlk6le-Ta3Q35vg1_4tKJt8mScLEvvK1ss90OYAi2xduCJGG-PzHPG3z7FfwE7zVGnDLipSuByEOgNYX1w==\"\n",
    "org = \"Machstatz\"\n",
    "url = \"http://localhost:8086/\"\n",
    "\n",
    "\n",
    "write_client = influxdb_client.InfluxDBClient(url=url, token=token, org=org)\n",
    "\n",
    "bucket=\"0f291dd48bb8ab96\"\n",
    "\n",
    "# Using write api to write data points in influxdb \n",
    "write_api = write_client.write_api(write_options=SYNCHRONOUS)\n",
    "\n",
    "data = {\n",
    "  \"point1\": {\n",
    "    \"location\": \"Klamath\",\n",
    "    \"species\": \"bees\",\n",
    "    \"count\": 23,\n",
    "  },\n",
    "  \"point2\": {\n",
    "    \"location\": \"Portland\",\n",
    "    \"species\": \"ants\",\n",
    "    \"count\": 30,\n",
    "  },\n",
    "  \"point3\": {\n",
    "    \"location\": \"Klamath\",\n",
    "    \"species\": \"bees\",\n",
    "    \"count\": 28,\n",
    "  },\n",
    "  \"point4\": {\n",
    "    \"location\": \"Portland\",\n",
    "    \"species\": \"ants\",\n",
    "    \"count\": 32,\n",
    "  },\n",
    "  \"point5\": {\n",
    "    \"location\": \"Klamath\",\n",
    "    \"species\": \"bees\",\n",
    "    \"count\": 29,\n",
    "  },\n",
    "  \"point6\": {\n",
    "    \"location\": \"Portland\",\n",
    "    \"species\": \"ants\",\n",
    "    \"count\": 40,\n",
    "  },\n",
    "}\n",
    "\n",
    "for key in data:\n",
    "  point = (\n",
    "    Point(\"census\")\n",
    "    .tag(\"location\", data[key][\"location\"])\n",
    "    .field(data[key][\"species\"], data[key][\"count\"])\n",
    "  )\n",
    "  write_api.write(bucket=bucket, org=org, record=point)\n",
    " \n",
    "\n",
    "print(\"Complete. Return to the InfluxDB UI.\")\n"
   ]
  },
  {
   "cell_type": "markdown",
   "id": "20f59d31",
   "metadata": {},
   "source": [
    "# Second Bucket"
   ]
  },
  {
   "cell_type": "code",
   "execution_count": 45,
   "id": "75caac62",
   "metadata": {},
   "outputs": [],
   "source": [
    "import influxdb_client\n",
    "from influxdb_client.client.write_api import SYNCHRONOUS\n",
    "\n",
    "bucket = \"9cfeb6bed27afdbe\"\n",
    "org = \"Machstatz\"\n",
    "token = \"yRhZGlk6le-Ta3Q35vg1_4tKJt8mScLEvvK1ss90OYAi2xduCJGG-PzHPG3z7FfwE7zVGnDLipSuByEOgNYX1w==\"\n",
    "url=\"http://localhost:8086/\"\n",
    "\n",
    "client = influxdb_client.InfluxDBClient(\n",
    "    url=url,\n",
    "    token=token,\n",
    "    org=org\n",
    ")\n",
    "\n",
    "\n",
    "write_api = client.write_api(write_options=SYNCHRONOUS)\n",
    "\n",
    "p = influxdb_client.Point(\"my_measurement\").tag(\"location\", \"Prague\").field(\"temperature\", 25.3).time(\"2023-02-22T12:00:00Z\")\n",
    "write_api.write(bucket=bucket, org=org, record=p)\n"
   ]
  },
  {
   "cell_type": "markdown",
   "id": "cda33160",
   "metadata": {},
   "source": [
    "# Reading "
   ]
  },
  {
   "cell_type": "code",
   "execution_count": 44,
   "id": "c6d234d1",
   "metadata": {},
   "outputs": [
    {
     "name": "stdout",
     "output_type": "stream",
     "text": [
      "[]\n"
     ]
    }
   ],
   "source": [
    "import influxdb_client\n",
    "from influxdb_client.client.write_api import SYNCHRONOUS\n",
    "\n",
    "bucket = \"9cfeb6bed27afdbe\"\n",
    "org = \"Machstatz\"\n",
    "token = \"yRhZGlk6le-Ta3Q35vg1_4tKJt8mScLEvvK1ss90OYAi2xduCJGG-PzHPG3z7FfwE7zVGnDLipSuByEOgNYX1w==\"\n",
    "url=\"http://localhost:8086/\"\n",
    "\n",
    "client = influxdb_client.InfluxDBClient(\n",
    "    url=url,\n",
    "    token=token,\n",
    "    org=org\n",
    ")\n",
    "\n",
    "# Using the query_api to retrieve data from an InfluxDB database \n",
    "query_api = client.query_api()\n",
    "#Createing a Flux query, and then format it as a Python string\n",
    "query = 'from(bucket:\"tem2\")\\\n",
    "|> range(start: -0)\\\n",
    "|> filter(fn:(r) => r._measurement == \"my_measurement\")\\\n",
    "|> filter(fn:(r) => r.location == \"Prague\")\\\n",
    "|> filter(fn:(r) => r._field == \"temperature\")'\n",
    "result = query_api.query(org=org, query=query)\n",
    "results = []\n",
    "for table in result:\n",
    "    for record in table.records:\n",
    "        results.append((record.get_field(), record.get_value()))\n",
    "\n",
    "print(results)"
   ]
  },
  {
   "cell_type": "markdown",
   "id": "47e35d82",
   "metadata": {},
   "source": [
    "# Delet Data"
   ]
  },
  {
   "cell_type": "code",
   "execution_count": 36,
   "id": "b017c30c",
   "metadata": {},
   "outputs": [],
   "source": [
    "from influxdb_client import InfluxDBClient\n",
    "\n",
    "client = InfluxDBClient(\n",
    "    url=\"http://localhost:8086/\", \n",
    "    token=\"yRhZGlk6le-Ta3Q35vg1_4tKJt8mScLEvvK1ss90OYAi2xduCJGG-PzHPG3z7FfwE7zVGnDLipSuByEOgNYX1w==\"\n",
    ")\n",
    "# Using delete_api to execute delete operations against an InfluxDB database,\n",
    "delete_api = client.delete_api()\n",
    "\n",
    "\n",
    "#Delete Data using timestamp\n",
    "\n",
    "start = \"2023-02-22T12:00:00Z\"\n",
    "stop = \"2023-02-22T1:45:00Z\"\n",
    "delete_api.delete(start, stop ,'_measurement=\"my_measurement\"', bucket='9cfeb6bed27afdbe', org='Machstatz')\n",
    "\n",
    "\n",
    "client.close()\n",
    "\n",
    "\n",
    "\n",
    "\n"
   ]
  },
  {
   "cell_type": "code",
   "execution_count": null,
   "id": "60d3d5c8",
   "metadata": {},
   "outputs": [],
   "source": []
  }
 ],
 "metadata": {
  "kernelspec": {
   "display_name": "Python 3 (ipykernel)",
   "language": "python",
   "name": "python3"
  },
  "language_info": {
   "codemirror_mode": {
    "name": "ipython",
    "version": 3
   },
   "file_extension": ".py",
   "mimetype": "text/x-python",
   "name": "python",
   "nbconvert_exporter": "python",
   "pygments_lexer": "ipython3",
   "version": "3.9.7"
  }
 },
 "nbformat": 4,
 "nbformat_minor": 5
}
