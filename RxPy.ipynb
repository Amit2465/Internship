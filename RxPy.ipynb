{
 "cells": [
  {
   "cell_type": "markdown",
   "id": "c5b98bb1",
   "metadata": {},
   "source": [
    "# Installing Reactivex"
   ]
  },
  {
   "cell_type": "code",
   "execution_count": 1,
   "id": "9a298d0f",
   "metadata": {},
   "outputs": [
    {
     "name": "stdout",
     "output_type": "stream",
     "text": [
      "Requirement already satisfied: reactivex in c:\\users\\kiran\\anaconda3\\lib\\site-packages (4.0.4)\n",
      "Requirement already satisfied: typing-extensions<5.0.0,>=4.1.1 in c:\\users\\kiran\\anaconda3\\lib\\site-packages (from reactivex) (4.5.0)\n",
      "Note: you may need to restart the kernel to use updated packages.\n"
     ]
    }
   ],
   "source": [
    "pip install reactivex"
   ]
  },
  {
   "cell_type": "code",
   "execution_count": 2,
   "id": "06d47565",
   "metadata": {},
   "outputs": [
    {
     "name": "stdout",
     "output_type": "stream",
     "text": [
      "Requirement already satisfied: rx in c:\\users\\kiran\\anaconda3\\lib\\site-packages (3.2.0)Note: you may need to restart the kernel to use updated packages.\n",
      "\n"
     ]
    }
   ],
   "source": [
    "pip install rx"
   ]
  },
  {
   "cell_type": "markdown",
   "id": "f2e7731f",
   "metadata": {},
   "source": [
    "# Creating observable "
   ]
  },
  {
   "cell_type": "code",
   "execution_count": 4,
   "id": "f264bc2a",
   "metadata": {},
   "outputs": [
    {
     "name": "stdout",
     "output_type": "stream",
     "text": [
      "Got - Hello\n",
      "Job Done!\n"
     ]
    },
    {
     "data": {
      "text/plain": [
       "<rx.disposable.disposable.Disposable at 0x1ae47fda610>"
      ]
     },
     "execution_count": 4,
     "metadata": {},
     "output_type": "execute_result"
    }
   ],
   "source": [
    "from rx import create\n",
    "def test_observable(observer, scheduler):\n",
    "   observer.on_next(\"Hello\")\n",
    "   observer.on_completed()\n",
    "source = create(test_observable)\n",
    "source.subscribe(\n",
    "   on_next = lambda i: print(\"Got - {0}\".format(i)),\n",
    "   on_error = lambda e: print(\"Error : {0}\".format(e)),\n",
    "   on_completed = lambda: print(\"Job Done!\"),\n",
    ")"
   ]
  },
  {
   "cell_type": "code",
   "execution_count": 4,
   "id": "fb656c4a",
   "metadata": {},
   "outputs": [
    {
     "name": "stdout",
     "output_type": "stream",
     "text": [
      "Recieved Alpha\n",
      "Recieved Beta\n",
      "Recieved Gamma\n",
      "Recieved Delta\n",
      "Recieved Epsilon\n",
      "Done!\n"
     ]
    },
    {
     "data": {
      "text/plain": [
       "<reactivex.disposable.disposable.Disposable at 0x271cd1837f0>"
      ]
     },
     "execution_count": 4,
     "metadata": {},
     "output_type": "execute_result"
    }
   ],
   "source": [
    "#push five strings using of() function  \n",
    "from reactivex import of\n",
    "source= of(\"Alpha\", \"Beta\", \"Gamma\", \"Delta\", \"Epsilon\")\n",
    "source.subscribe(\n",
    " on_next= lambda n: print(\"Recieved {0}\".format(n)),\n",
    " on_error= lambda e: print(\"Error Occured {0}\" .format(e)),\n",
    " on_completed= lambda: print(\"Done!\"),   \n",
    ")"
   ]
  },
  {
   "cell_type": "code",
   "execution_count": 5,
   "id": "d70c80e8",
   "metadata": {},
   "outputs": [
    {
     "name": "stdout",
     "output_type": "stream",
     "text": [
      "Job Done!\n"
     ]
    },
    {
     "data": {
      "text/plain": [
       "<reactivex.disposable.disposable.Disposable at 0x271cd2a32e0>"
      ]
     },
     "execution_count": 5,
     "metadata": {},
     "output_type": "execute_result"
    }
   ],
   "source": [
    "from reactivex import empty\n",
    "test= empty()\n",
    "test.subscribe(\n",
    " lambda x: print(\"Got-- {0}\".format(x)),\n",
    " on_error=lambda e: print(\"Error: {0}\".format(e)),\n",
    " on_completed=lambda : print(\"Job Done!\"),   \n",
    ")"
   ]
  },
  {
   "cell_type": "code",
   "execution_count": 6,
   "id": "04a4e7ca",
   "metadata": {},
   "outputs": [
    {
     "data": {
      "text/plain": [
       "<reactivex.disposable.disposable.Disposable at 0x271cd2c13a0>"
      ]
     },
     "execution_count": 6,
     "metadata": {},
     "output_type": "execute_result"
    }
   ],
   "source": [
    "from reactivex import never\n",
    "test=never()\n",
    "test.subscribe(\n",
    " lambda x: print(\"Got-- {0}\".format(x)),\n",
    " on_error= lambda e: print(\"Error: {0}\".format(e)),\n",
    " on_completed= lambda: print(\"Job done!\")    \n",
    ")"
   ]
  },
  {
   "cell_type": "code",
   "execution_count": 7,
   "id": "15436e5b",
   "metadata": {},
   "outputs": [
    {
     "name": "stdout",
     "output_type": "stream",
     "text": [
      "Error : There is an Error!\n"
     ]
    },
    {
     "data": {
      "text/plain": [
       "<rx.disposable.disposable.Disposable at 0x271cd34c880>"
      ]
     },
     "execution_count": 7,
     "metadata": {},
     "output_type": "execute_result"
    }
   ],
   "source": [
    "from rx import throw\n",
    "test = throw(Exception('There is an Error!'))\n",
    "test.subscribe(\n",
    "   lambda x: print(\"The value is {0}\".format(x)),\n",
    "   on_error = lambda e: print(\"Error : {0}\".format(e)),\n",
    "   on_completed = lambda: print(\"Job Done!\")\n",
    ")"
   ]
  },
  {
   "cell_type": "code",
   "execution_count": 8,
   "id": "b474df7b",
   "metadata": {},
   "outputs": [
    {
     "name": "stdout",
     "output_type": "stream",
     "text": [
      "The value is [15, 25, 50, 55]\n",
      "Job Done!\n"
     ]
    },
    {
     "data": {
      "text/plain": [
       "<rx.disposable.disposable.Disposable at 0x271cd1d6b80>"
      ]
     },
     "execution_count": 8,
     "metadata": {},
     "output_type": "execute_result"
    }
   ],
   "source": [
    "from rx import just\n",
    "test = just([15, 25,50, 55])\n",
    "test.subscribe(\n",
    "   lambda x: print(\"The value is {0}\".format(x)),\n",
    "   on_error = lambda e: print(\"Error : {0}\".format(e)),\n",
    "   on_completed = lambda: print(\"Job Done!\")\n",
    ")"
   ]
  },
  {
   "cell_type": "code",
   "execution_count": 9,
   "id": "82b3a9fe",
   "metadata": {},
   "outputs": [
    {
     "name": "stdout",
     "output_type": "stream",
     "text": [
      "The value is 0\n",
      "The value is 1\n",
      "The value is 2\n",
      "The value is 3\n",
      "The value is 4\n",
      "The value is 5\n",
      "The value is 6\n",
      "The value is 7\n",
      "The value is 8\n",
      "The value is 9\n",
      "Job Done!\n"
     ]
    },
    {
     "data": {
      "text/plain": [
       "<rx.disposable.disposable.Disposable at 0x271cd35f4c0>"
      ]
     },
     "execution_count": 9,
     "metadata": {},
     "output_type": "execute_result"
    }
   ],
   "source": [
    "from rx import range\n",
    "test = range(0,10)\n",
    "test.subscribe(\n",
    "   on_next= lambda x: print(\"The value is {0}\".format(x)),\n",
    "   on_error = lambda e: print(\"Error : {0}\".format(e)),\n",
    "   on_completed = lambda: print(\"Job Done!\")\n",
    ")"
   ]
  },
  {
   "cell_type": "code",
   "execution_count": 10,
   "id": "2a01d47b",
   "metadata": {},
   "outputs": [
    {
     "name": "stdout",
     "output_type": "stream",
     "text": [
      "The value is 44\n",
      "The value is 44\n",
      "The value is 44\n",
      "The value is 44\n",
      "The value is 44\n",
      "The value is 44\n",
      "The value is 44\n",
      "The value is 44\n",
      "The value is 44\n",
      "The value is 44\n",
      "Job Done!\n"
     ]
    },
    {
     "data": {
      "text/plain": [
       "<rx.disposable.disposable.Disposable at 0x271cd3aaa60>"
      ]
     },
     "execution_count": 10,
     "metadata": {},
     "output_type": "execute_result"
    }
   ],
   "source": [
    "from rx import repeat_value\n",
    "test = repeat_value(44,10)\n",
    "test.subscribe(\n",
    "   lambda x: print(\"The value is {0}\".format(x)),\n",
    "   on_error = lambda e: print(\"Error : {0}\".format(e)),\n",
    "   on_completed = lambda: print(\"Job Done!\")\n",
    ")"
   ]
  },
  {
   "cell_type": "code",
   "execution_count": 11,
   "id": "10f93935",
   "metadata": {},
   "outputs": [
    {
     "name": "stdout",
     "output_type": "stream",
     "text": [
      "The value is Hello World\n",
      "Job Done!\n"
     ]
    },
    {
     "data": {
      "text/plain": [
       "<rx.disposable.disposable.Disposable at 0x271cd3aa760>"
      ]
     },
     "execution_count": 11,
     "metadata": {},
     "output_type": "execute_result"
    }
   ],
   "source": [
    "from rx import start\n",
    "test = start(lambda : \"Hello World\")\n",
    "test.subscribe(\n",
    "   lambda x: print(\"The value is {0}\".format(x)),\n",
    "   on_error = lambda e: print(\"Error : {0}\".format(e)),\n",
    "   on_completed = lambda: print(\"Job Done!\")\n",
    ")"
   ]
  },
  {
   "cell_type": "markdown",
   "id": "ce95c5c4",
   "metadata": {},
   "source": [
    "# Operators and chaining"
   ]
  },
  {
   "cell_type": "code",
   "execution_count": 12,
   "id": "956a4906",
   "metadata": {},
   "outputs": [
    {
     "name": "stdout",
     "output_type": "stream",
     "text": [
      "Recieved 5\n",
      "Recieved 5\n",
      "Recieved 5\n",
      "Recieved 7\n"
     ]
    },
    {
     "data": {
      "text/plain": [
       "<reactivex.disposable.disposable.Disposable at 0x271cd3e0b80>"
      ]
     },
     "execution_count": 12,
     "metadata": {},
     "output_type": "execute_result"
    }
   ],
   "source": [
    "#Typically, you do not want to save Observables into intermediary variables for each operator, unless you want to have \n",
    "#multiple subscribers at that point. Instead, you want to strive to inline and create an “Observable pipeline” of operations. \n",
    "#That way your code is readable and tells a story much more easily.\n",
    "\n",
    "from reactivex import of, operators as op\n",
    "of(\"Alpha\", \"Beta\", \"Gamma\", \"Delta\", \"Epsilon\").pipe(\n",
    "  op.map(lambda s: len(s)),\n",
    "  op.filter(lambda i: i>=5)\n",
    ").subscribe(lambda value: print(\"Recieved {0}\".format(value)))\n"
   ]
  },
  {
   "cell_type": "markdown",
   "id": "84ce432e",
   "metadata": {},
   "source": [
    " Mathematical Operators "
   ]
  },
  {
   "cell_type": "code",
   "execution_count": 13,
   "id": "6ee72865",
   "metadata": {},
   "outputs": [
    {
     "name": "stdout",
     "output_type": "stream",
     "text": [
      "Average is 5.0\n"
     ]
    },
    {
     "data": {
      "text/plain": [
       "<reactivex.disposable.disposable.Disposable at 0x271cd3fb760>"
      ]
     },
     "execution_count": 13,
     "metadata": {},
     "output_type": "execute_result"
    }
   ],
   "source": [
    "from reactivex import of,operators as op\n",
    "test=of(1,2,3,4,5,6,7,8,9)\n",
    "\n",
    "sub1=test.pipe(\n",
    "  op.average()\n",
    ")\n",
    "\n",
    "sub1.subscribe(lambda x: print(\"Average is {0}\".format(x)) )"
   ]
  },
  {
   "cell_type": "code",
   "execution_count": 14,
   "id": "5cf61558",
   "metadata": {},
   "outputs": [
    {
     "name": "stdout",
     "output_type": "stream",
     "text": [
      "Count is 9\n"
     ]
    },
    {
     "data": {
      "text/plain": [
       "<reactivex.disposable.disposable.Disposable at 0x271cd3fb310>"
      ]
     },
     "execution_count": 14,
     "metadata": {},
     "output_type": "execute_result"
    }
   ],
   "source": [
    "#Count Operator\n",
    "from reactivex import of,operators as op\n",
    "test=of(1,2,3,4,5,6,7,8,9)\n",
    "\n",
    "sub1=test.pipe(\n",
    " op.count()\n",
    ")\n",
    "\n",
    "sub1.subscribe(lambda x: print(\"Count is {0}\".format(x)))"
   ]
  },
  {
   "cell_type": "code",
   "execution_count": 15,
   "id": "fc6cc2ba",
   "metadata": {},
   "outputs": [
    {
     "name": "stdout",
     "output_type": "stream",
     "text": [
      "Max value is 280\n"
     ]
    },
    {
     "data": {
      "text/plain": [
       "<rx.disposable.disposable.Disposable at 0x271cd3fba30>"
      ]
     },
     "execution_count": 15,
     "metadata": {},
     "output_type": "execute_result"
    }
   ],
   "source": [
    "#Max Operators\n",
    "\n",
    "from rx import of, operators as op\n",
    "test = of(12,32,41,50,280,250)\n",
    "sub1 = test.pipe(\n",
    "   op.max()\n",
    ")\n",
    "sub1.subscribe(lambda x: print(\"Max value is {0}\".format(x)))"
   ]
  },
  {
   "cell_type": "code",
   "execution_count": 16,
   "id": "9bb08b0d",
   "metadata": {},
   "outputs": [
    {
     "name": "stdout",
     "output_type": "stream",
     "text": [
      "Min value is 12\n"
     ]
    },
    {
     "data": {
      "text/plain": [
       "<rx.disposable.disposable.Disposable at 0x271cd407160>"
      ]
     },
     "execution_count": 16,
     "metadata": {},
     "output_type": "execute_result"
    }
   ],
   "source": [
    "#Min Operators\n",
    "\n",
    "from rx import of, operators as op\n",
    "test = of(12,32,41,50,280,250)\n",
    "sub1 = test.pipe(\n",
    "   op.min()\n",
    ")\n",
    "sub1.subscribe(lambda x: print(\"Min value is {0}\".format(x)))"
   ]
  },
  {
   "cell_type": "code",
   "execution_count": 17,
   "id": "2dc36157",
   "metadata": {},
   "outputs": [
    {
     "name": "stdout",
     "output_type": "stream",
     "text": [
      "The value is 55\n"
     ]
    },
    {
     "data": {
      "text/plain": [
       "<rx.disposable.disposable.Disposable at 0x271cd407a00>"
      ]
     },
     "execution_count": 17,
     "metadata": {},
     "output_type": "execute_result"
    }
   ],
   "source": [
    "#reduce operator\n",
    "\n",
    "from rx import of, operators as op\n",
    "test = of(1, 2, 3, 4, 5, 6, 7, 8, 9, 10)\n",
    "sub1 = test.pipe(\n",
    "   op.reduce(lambda acc, x: acc + x)\n",
    ")\n",
    "sub1.subscribe(lambda x: print(\"The value is {0}\".format(x)))\n"
   ]
  },
  {
   "cell_type": "code",
   "execution_count": 18,
   "id": "9757afec",
   "metadata": {},
   "outputs": [
    {
     "name": "stdout",
     "output_type": "stream",
     "text": [
      "Sum of Even numbers is 30\n"
     ]
    },
    {
     "data": {
      "text/plain": [
       "<rx.disposable.disposable.Disposable at 0x271cd4121c0>"
      ]
     },
     "execution_count": 18,
     "metadata": {},
     "output_type": "execute_result"
    }
   ],
   "source": [
    "#sum operator\n",
    "\n",
    "from rx import of, operators as op\n",
    "test = of(1, 2, 3, 4, 5, 6, 7, 8, 9, 10)\n",
    "sub1 = test.pipe(\n",
    "   op.filter(lambda s: s%2==0),\n",
    "   op.reduce(lambda acc, x: acc + x)\n",
    ")\n",
    "sub1.subscribe(lambda x: print(\"Sum of Even numbers is {0}\".format(x)))"
   ]
  },
  {
   "cell_type": "markdown",
   "id": "2b3336ce",
   "metadata": {},
   "source": [
    "# Transfromation Operators"
   ]
  },
  {
   "cell_type": "code",
   "execution_count": 19,
   "id": "5ecbf595",
   "metadata": {},
   "outputs": [
    {
     "name": "stdout",
     "output_type": "stream",
     "text": [
      "The element is [1, 2, 3, 4, 5, 6, 7, 8, 9, 10]\n"
     ]
    },
    {
     "data": {
      "text/plain": [
       "<rx.disposable.disposable.Disposable at 0x271cd422910>"
      ]
     },
     "execution_count": 19,
     "metadata": {},
     "output_type": "execute_result"
    }
   ],
   "source": [
    "'''buffer:-\n",
    "This operator will collect all the values, from the source observable and emit \n",
    "them at regular intervals once the given boundary condition is satisfied.'''\n",
    "\n",
    "from rx import of, interval, operators as op\n",
    "from datetime import date\n",
    "test = of(1, 2,3,4,5,6,7,8,9,10)\n",
    "sub1 = test.pipe(\n",
    "   op.buffer(interval(1.0))\n",
    ")\n",
    "sub1.subscribe(lambda x: print(\"The element is {0}\".format(x)))"
   ]
  },
  {
   "cell_type": "code",
   "execution_count": 20,
   "id": "6799c252",
   "metadata": {},
   "outputs": [
    {
     "name": "stdout",
     "output_type": "stream",
     "text": [
      "The element is <rx.core.observable.groupedobservable.GroupedObservable object at 0x00000271CD436850>\n",
      "The element is <rx.core.observable.groupedobservable.GroupedObservable object at 0x00000271CD436970>\n",
      "The element is <rx.core.observable.groupedobservable.GroupedObservable object at 0x00000271CD436190>\n",
      "The element is <rx.core.observable.groupedobservable.GroupedObservable object at 0x00000271CD436610>\n"
     ]
    },
    {
     "data": {
      "text/plain": [
       "<rx.disposable.disposable.Disposable at 0x271cd41abe0>"
      ]
     },
     "execution_count": 20,
     "metadata": {},
     "output_type": "execute_result"
    }
   ],
   "source": [
    "'''ground_by:-\n",
    "This operator will group the values coming from the source observable based on the key_mapper function given.'''\n",
    "\n",
    "from rx import from_, interval, operators as op\n",
    "test = from_([\"A\", \"B\", \"C\", \"D\"])\n",
    "sub1 = test.pipe(\n",
    "   op.group_by(lambda v: v[0])\n",
    ")\n",
    "sub1.subscribe(lambda x: print(\"The element is {0}\".format(x)))"
   ]
  },
  {
   "cell_type": "code",
   "execution_count": 21,
   "id": "bbd26660",
   "metadata": {},
   "outputs": [
    {
     "name": "stdout",
     "output_type": "stream",
     "text": [
      "Recieved 5\n",
      "Recieved 5\n",
      "Recieved 5\n",
      "Recieved 7\n"
     ]
    },
    {
     "data": {
      "text/plain": [
       "<reactivex.disposable.disposable.Disposable at 0x271cd42ea00>"
      ]
     },
     "execution_count": 21,
     "metadata": {},
     "output_type": "execute_result"
    }
   ],
   "source": [
    "'''map:-\n",
    "This operator will change each value from the source observable into a new value based on the o/p of the mapper_func given.'''\n",
    "\n",
    "from reactivex import of, operators as op\n",
    "source=of(\"Alpha\", \"Beta\", \"Gamma\", \"Delta\", \"Epsilon\")\n",
    "\n",
    "composed=source.pipe(\n",
    "  op.map(lambda s:len(s)),\n",
    "  op.filter(lambda i: i>=5) \n",
    ")\n",
    "\n",
    "composed.subscribe(\n",
    "    lambda value: print(\"Recieved {0}\".format(value))\n",
    ")"
   ]
  },
  {
   "cell_type": "code",
   "execution_count": 22,
   "id": "af93c602",
   "metadata": {},
   "outputs": [
    {
     "name": "stdout",
     "output_type": "stream",
     "text": [
      "The element is 1\n",
      "The element is 4\n",
      "The element is 9\n",
      "The element is 16\n",
      "The element is 25\n",
      "The element is 36\n",
      "The element is 49\n",
      "The element is 64\n",
      "The element is 81\n",
      "The element is 100\n"
     ]
    },
    {
     "data": {
      "text/plain": [
       "<rx.disposable.disposable.Disposable at 0x271cd436700>"
      ]
     },
     "execution_count": 22,
     "metadata": {},
     "output_type": "execute_result"
    }
   ],
   "source": [
    "from rx import of, interval, operators as op\n",
    "test = of(1, 2,3,4,5,6,7,8,9,10)\n",
    "sub1 = test.pipe(\n",
    "   op.map(lambda x :x*x)\n",
    ")\n",
    "sub1.subscribe(lambda x: print(\"The element is {0}\".format(x)))"
   ]
  },
  {
   "cell_type": "code",
   "execution_count": 23,
   "id": "ae10d1b4",
   "metadata": {},
   "outputs": [
    {
     "name": "stdout",
     "output_type": "stream",
     "text": [
      "The element is 1\n",
      "The element is 3\n",
      "The element is 6\n",
      "The element is 10\n",
      "The element is 15\n",
      "The element is 21\n",
      "The element is 28\n",
      "The element is 36\n",
      "The element is 45\n",
      "The element is 55\n"
     ]
    },
    {
     "data": {
      "text/plain": [
       "<rx.disposable.disposable.Disposable at 0x271cd440d00>"
      ]
     },
     "execution_count": 23,
     "metadata": {},
     "output_type": "execute_result"
    }
   ],
   "source": [
    "'''scan:-\n",
    "This operator will apply an accumulator function to the values coming from the source observable\n",
    "and return an observable with new values.'''\n",
    "\n",
    "from rx import of, interval, operators as op\n",
    "test = of(1, 2,3,4,5,6,7,8,9,10)\n",
    "sub1 = test.pipe(\n",
    "   op.scan(lambda acc, a: acc + a, 0))\n",
    "sub1.subscribe(lambda x: print(\"The element is {0}\".format(x)))"
   ]
  },
  {
   "cell_type": "markdown",
   "id": "aebae734",
   "metadata": {},
   "source": [
    "# Filtering Operators "
   ]
  },
  {
   "cell_type": "code",
   "execution_count": 24,
   "id": "04d833fb",
   "metadata": {},
   "outputs": [
    {
     "name": "stdout",
     "output_type": "stream",
     "text": [
      "The value is 10\n"
     ]
    },
    {
     "data": {
      "text/plain": [
       "<rx.disposable.disposable.Disposable at 0x271cd440ee0>"
      ]
     },
     "execution_count": 24,
     "metadata": {},
     "output_type": "execute_result"
    }
   ],
   "source": [
    "'''debounce:-\n",
    "This operator will give the values from the source observable, \n",
    "until the timespan given and ignore the rest of the values if time passes.'''\n",
    "\n",
    "\n",
    "from rx import of, operators as op\n",
    "from datetime import date\n",
    "test = of(1,2,3,4,5,6,7,8,9,10)\n",
    "sub1 = test.pipe(\n",
    "   op.debounce(2.0)\n",
    ")\n",
    "sub1.subscribe(lambda x: print(\"The value is {0}\".format(x)))"
   ]
  },
  {
   "cell_type": "code",
   "execution_count": 25,
   "id": "f335ed83",
   "metadata": {},
   "outputs": [
    {
     "name": "stdout",
     "output_type": "stream",
     "text": [
      "The distinct value is 1\n",
      "The distinct value is 6\n",
      "The distinct value is 15\n",
      "The distinct value is 10\n",
      "The distinct value is 40\n",
      "The distinct value is 58\n",
      "The distinct value is 20\n"
     ]
    },
    {
     "data": {
      "text/plain": [
       "<rx.disposable.disposable.Disposable at 0x271cd440130>"
      ]
     },
     "execution_count": 25,
     "metadata": {},
     "output_type": "execute_result"
    }
   ],
   "source": [
    "'''distinct:-\n",
    "This operator will give all the values that are distinct from the source observable'''\n",
    "\n",
    "from rx import of, operators as op\n",
    "from datetime import date\n",
    "test = of(1, 6, 15, 1, 10, 6, 40, 10, 58, 20, 40)\n",
    "sub1 = test.pipe(\n",
    "   op.distinct()\n",
    ")\n",
    "sub1.subscribe(lambda x: print(\"The distinct value is {0}\".format(x)))"
   ]
  },
  {
   "cell_type": "code",
   "execution_count": 26,
   "id": "4376d3bf",
   "metadata": {},
   "outputs": [
    {
     "name": "stdout",
     "output_type": "stream",
     "text": [
      "The value is 6\n"
     ]
    },
    {
     "data": {
      "text/plain": [
       "<rx.disposable.disposable.Disposable at 0x271cd443a30>"
      ]
     },
     "execution_count": 26,
     "metadata": {},
     "output_type": "execute_result"
    }
   ],
   "source": [
    "'''element_at:-\n",
    "This operator will give an element from the source observable for the index given.'''\n",
    "\n",
    "from rx import of, operators as op\n",
    "from datetime import date\n",
    "test = of(1, 6, 15, 1, 10, 6, 40, 10, 58, 20, 40)\n",
    "sub1 = test.pipe(\n",
    "   op.element_at(5)\n",
    ")\n",
    "sub1.subscribe(lambda x: print(\"The value is {0}\".format(x)))\n"
   ]
  },
  {
   "cell_type": "code",
   "execution_count": 27,
   "id": "d0168749",
   "metadata": {},
   "outputs": [
    {
     "name": "stdout",
     "output_type": "stream",
     "text": [
      "The filtered value is 6\n",
      "The filtered value is 10\n",
      "The filtered value is 6\n",
      "The filtered value is 40\n",
      "The filtered value is 10\n",
      "The filtered value is 58\n",
      "The filtered value is 20\n",
      "The filtered value is 40\n"
     ]
    },
    {
     "data": {
      "text/plain": [
       "<rx.disposable.disposable.Disposable at 0x271cd443550>"
      ]
     },
     "execution_count": 27,
     "metadata": {},
     "output_type": "execute_result"
    }
   ],
   "source": [
    "'''filter:-\n",
    "This operator will filter values from the source observable based on the predicate function given.'''\n",
    "\n",
    "from rx import of, operators as op\n",
    "from datetime import date\n",
    "test = of(1, 6, 15, 1, 10, 6, 40, 10, 58, 20, 40)\n",
    "sub1 = test.pipe(\n",
    "   op.filter(lambda x : x %2==0)\n",
    ")\n",
    "sub1.subscribe(lambda x: print(\"The filtered value is {0}\".format(x)))"
   ]
  },
  {
   "cell_type": "code",
   "execution_count": 28,
   "id": "b465ca2d",
   "metadata": {},
   "outputs": [
    {
     "name": "stdout",
     "output_type": "stream",
     "text": [
      "The first element is 1\n"
     ]
    },
    {
     "data": {
      "text/plain": [
       "<rx.disposable.disposable.Disposable at 0x271cd440df0>"
      ]
     },
     "execution_count": 28,
     "metadata": {},
     "output_type": "execute_result"
    }
   ],
   "source": [
    "#first:- This operator will give the first element from the source observable.\n",
    "\n",
    "from rx import of, operators as op\n",
    "from datetime import date\n",
    "test = of(1, 6, 15, 1, 10, 6, 40, 10, 58, 20, 40)\n",
    "sub1 = test.pipe(\n",
    "   op.first()\n",
    ")\n",
    "sub1.subscribe(lambda x: print(\"The first element is {0}\".format(x)))"
   ]
  },
  {
   "cell_type": "code",
   "execution_count": 29,
   "id": "a358df46",
   "metadata": {},
   "outputs": [
    {
     "name": "stdout",
     "output_type": "stream",
     "text": [
      "Job Done!\n"
     ]
    },
    {
     "data": {
      "text/plain": [
       "<rx.disposable.disposable.Disposable at 0x271cd436400>"
      ]
     },
     "execution_count": 29,
     "metadata": {},
     "output_type": "execute_result"
    }
   ],
   "source": [
    "'''ignore_elements:-\n",
    "This operator will ignore all the values from the source Observable, \n",
    "and only execute calls to complete or error callback functions.'''\n",
    "\n",
    "from rx import of, operators as op\n",
    "from datetime import date\n",
    "test = of(1, 6, 15, 1, 10, 6, 40, 10, 58, 20, 40)\n",
    "sub1 = test.pipe(\n",
    "   op.ignore_elements()\n",
    ")\n",
    "sub1.subscribe(lambda x: print(\"The first element is {0}\".format(x)),\n",
    "lambda e: print(\"Error : {0}\".format(e)),\n",
    "lambda: print(\"Job Done!\"))"
   ]
  },
  {
   "cell_type": "code",
   "execution_count": 30,
   "id": "7aefc8e3",
   "metadata": {},
   "outputs": [
    {
     "name": "stdout",
     "output_type": "stream",
     "text": [
      "The last element is 40\n"
     ]
    },
    {
     "data": {
      "text/plain": [
       "<rx.disposable.disposable.Disposable at 0x271cd464cd0>"
      ]
     },
     "execution_count": 30,
     "metadata": {},
     "output_type": "execute_result"
    }
   ],
   "source": [
    "#last:- This operator will give the last element from the source observable.\n",
    "\n",
    "from rx import of, operators as op\n",
    "from datetime import date\n",
    "test = of(1, 6, 15, 1, 10, 6, 40, 10, 58, 20, 40)\n",
    "sub1 = test.pipe(\n",
    "   op.last()\n",
    ")\n",
    "sub1.subscribe(lambda x: print(\"The last element is {0}\".format(x)))"
   ]
  },
  {
   "cell_type": "code",
   "execution_count": 31,
   "id": "84a1baec",
   "metadata": {},
   "outputs": [
    {
     "name": "stdout",
     "output_type": "stream",
     "text": [
      "The element is 6\n",
      "The element is 7\n",
      "The element is 8\n",
      "The element is 9\n",
      "The element is 10\n"
     ]
    },
    {
     "data": {
      "text/plain": [
       "<rx.disposable.disposable.Disposable at 0x271cd464eb0>"
      ]
     },
     "execution_count": 31,
     "metadata": {},
     "output_type": "execute_result"
    }
   ],
   "source": [
    "'''skip:-\n",
    "This operator will give back an observable, that will skip the first occurrence of count items taken as input.'''\n",
    "\n",
    "from rx import of, operators as op\n",
    "from datetime import date\n",
    "test = of(1, 2,3,4,5,6,7,8,9,10)\n",
    "sub1 = test.pipe(\n",
    "   op.skip(5)\n",
    ")\n",
    "sub1.subscribe(lambda x: print(\"The element is {0}\".format(x)))"
   ]
  },
  {
   "cell_type": "code",
   "execution_count": 32,
   "id": "6bbcaa30",
   "metadata": {},
   "outputs": [
    {
     "name": "stdout",
     "output_type": "stream",
     "text": [
      "The element is 1\n",
      "The element is 2\n",
      "The element is 3\n",
      "The element is 4\n",
      "The element is 5\n"
     ]
    },
    {
     "data": {
      "text/plain": [
       "<rx.disposable.disposable.Disposable at 0x271cd41a670>"
      ]
     },
     "execution_count": 32,
     "metadata": {},
     "output_type": "execute_result"
    }
   ],
   "source": [
    "'''skip_last:-\n",
    "This operator will give back an observable, that will skip the last occurrence of count items taken as input.'''\n",
    "\n",
    "from rx import of, operators as op\n",
    "from datetime import date\n",
    "test = of(1, 2,3,4,5,6,7,8,9,10)\n",
    "sub1 = test.pipe(\n",
    "   op.skip_last(5)\n",
    ")\n",
    "sub1.subscribe(lambda x: print(\"The element is {0}\".format(x)))"
   ]
  },
  {
   "cell_type": "code",
   "execution_count": 33,
   "id": "1ade43e6",
   "metadata": {},
   "outputs": [
    {
     "name": "stdout",
     "output_type": "stream",
     "text": [
      "The element is 1\n",
      "The element is 2\n",
      "The element is 3\n",
      "The element is 4\n",
      "The element is 5\n"
     ]
    },
    {
     "data": {
      "text/plain": [
       "<rx.disposable.disposable.Disposable at 0x271cd46f730>"
      ]
     },
     "execution_count": 33,
     "metadata": {},
     "output_type": "execute_result"
    }
   ],
   "source": [
    "#take:- This operator will give a list of source values in continuous order based on the count given.\n",
    "\n",
    "\n",
    "from rx import of, operators as op\n",
    "from datetime import date\n",
    "test = of(1, 2,3,4,5,6,7,8,9,10)\n",
    "sub1 = test.pipe(\n",
    "   op.take(5)\n",
    ")\n",
    "sub1.subscribe(lambda x: print(\"The element is {0}\".format(x)))"
   ]
  },
  {
   "cell_type": "code",
   "execution_count": 34,
   "id": "e076a4d2",
   "metadata": {},
   "outputs": [
    {
     "name": "stdout",
     "output_type": "stream",
     "text": [
      "The element is 6\n",
      "The element is 7\n",
      "The element is 8\n",
      "The element is 9\n",
      "The element is 10\n"
     ]
    },
    {
     "data": {
      "text/plain": [
       "<rx.disposable.disposable.Disposable at 0x271cd46fb20>"
      ]
     },
     "execution_count": 34,
     "metadata": {},
     "output_type": "execute_result"
    }
   ],
   "source": [
    "#take_last:- This operator will give a list of source values, in continuous order from last based on the count given.\n",
    "\n",
    "from rx import of, operators as op\n",
    "from datetime import date\n",
    "test = of(1, 2,3,4,5,6,7,8,9,10)\n",
    "sub1 = test.pipe(\n",
    "   op.take_last(5)\n",
    ")\n",
    "sub1.subscribe(lambda x: print(\"The element is {0}\".format(x)))"
   ]
  },
  {
   "cell_type": "markdown",
   "id": "62e43d4d",
   "metadata": {},
   "source": [
    "# Error handling operators"
   ]
  },
  {
   "cell_type": "code",
   "execution_count": 35,
   "id": "b622f1c3",
   "metadata": {},
   "outputs": [
    {
     "name": "stdout",
     "output_type": "stream",
     "text": [
      "The value is 1\n",
      "The value is 2\n",
      "The value is 3\n",
      "The value is 11\n",
      "The value is 12\n",
      "The value is 13\n",
      "The value is 14\n"
     ]
    },
    {
     "data": {
      "text/plain": [
       "<rx.disposable.disposable.Disposable at 0x271cd464a30>"
      ]
     },
     "execution_count": 35,
     "metadata": {},
     "output_type": "execute_result"
    }
   ],
   "source": [
    "#catch:- This operator will terminate the source observable when there is an exception.\n",
    "\n",
    "from rx import of, operators as op\n",
    "from datetime import date\n",
    "test = of(1,2,3,4,5,6)\n",
    "handler = of(11,12,13,14)\n",
    "def casetest(e):\n",
    "   if (e==4):\n",
    "      raise Exception('err')\n",
    "   else:\n",
    "      return e\n",
    "sub1 = test.pipe(\n",
    "   op.map(lambda e : casetest(e)),\n",
    "   op.catch(handler)\n",
    ")\n",
    "sub1.subscribe(lambda x: print(\"The value is {0}\".format(x)),\n",
    "on_error = lambda e: print(\"Error : {0}\".format(e)))"
   ]
  },
  {
   "cell_type": "code",
   "execution_count": 36,
   "id": "0cf2c727",
   "metadata": {},
   "outputs": [
    {
     "name": "stdout",
     "output_type": "stream",
     "text": [
      "The value is 1\n",
      "The value is 2\n",
      "The value is 3\n",
      "The value is 1\n",
      "The value is 2\n",
      "The value is 3\n",
      "Error : There is error cannot proceed!\n"
     ]
    },
    {
     "data": {
      "text/plain": [
       "<rx.disposable.disposable.Disposable at 0x271cd476220>"
      ]
     },
     "execution_count": 36,
     "metadata": {},
     "output_type": "execute_result"
    }
   ],
   "source": [
    "#retry:-\n",
    "#This operator will retry on the source observable when there is an error and once the retry count is done it will terminate.\n",
    "\n",
    "from rx import of, operators as op\n",
    "test = of(1,2,3,4,5,6)\n",
    "def casetest(e):\n",
    "   if (e==4):\n",
    "     raise Exception('There is error cannot proceed!')\n",
    "   else:\n",
    "     return e\n",
    "sub1 = test.pipe(\n",
    "   op.map(lambda e : casetest(e)),\n",
    "   op.retry(2)\n",
    ")\n",
    "sub1.subscribe(lambda x: print(\"The value is {0}\".format(x)),\n",
    "on_error = lambda e: print(\"Error : {0}\".format(e)))"
   ]
  },
  {
   "cell_type": "markdown",
   "id": "927c64eb",
   "metadata": {},
   "source": [
    "# Utility Operators"
   ]
  },
  {
   "cell_type": "code",
   "execution_count": 37,
   "id": "1b800277",
   "metadata": {},
   "outputs": [
    {
     "name": "stdout",
     "output_type": "stream",
     "text": [
      "The value is 1\n",
      "The value is 2\n",
      "The value is 3\n",
      "The value is 4\n",
      "The value is 5\n",
      "Press any key to exit\n",
      "\n"
     ]
    },
    {
     "data": {
      "text/plain": [
       "''"
      ]
     },
     "execution_count": 37,
     "metadata": {},
     "output_type": "execute_result"
    }
   ],
   "source": [
    "#delay:- This operator will delay the source observable emission as per the time or date given\n",
    "\n",
    "from rx import of, operators as op\n",
    "import datetime\n",
    "test1 = of(1,2,3,4,5)\n",
    "sub1 = test1.pipe(\n",
    "   op.delay(5.0)\n",
    ")\n",
    "sub1.subscribe(lambda x: print(\"The value is {0}\".format(x)))\n",
    "input(\"Press any key to exit\\n\")"
   ]
  },
  {
   "cell_type": "code",
   "execution_count": 38,
   "id": "961d0549",
   "metadata": {},
   "outputs": [
    {
     "name": "stdout",
     "output_type": "stream",
     "text": [
      "The value is OnNext(1.0)\n",
      "The value is OnNext(2.0)\n",
      "The value is OnNext(3.0)\n",
      "The value is OnNext(4.0)\n",
      "The value is OnNext(5.0)\n",
      "The value is OnCompleted()\n"
     ]
    },
    {
     "data": {
      "text/plain": [
       "<rx.disposable.disposable.Disposable at 0x271cd483610>"
      ]
     },
     "execution_count": 38,
     "metadata": {},
     "output_type": "execute_result"
    }
   ],
   "source": [
    "'''materialize:-\n",
    "This operator will convert the values from the source observable with the values emitted in the form of explicit notification\n",
    "values.'''\n",
    "\n",
    "from rx import of, operators as op\n",
    "import datetime\n",
    "test1 = of(1,2,3,4,5)\n",
    "sub1 = test1.pipe(\n",
    "   op.materialize()\n",
    ")\n",
    "sub1.subscribe(lambda x: print(\"The value is {0}\".format(x)))"
   ]
  },
  {
   "cell_type": "code",
   "execution_count": 39,
   "id": "7e419e72",
   "metadata": {},
   "outputs": [
    {
     "name": "stdout",
     "output_type": "stream",
     "text": [
      "The value is TimeInterval(value=1, interval=datetime.timedelta(0))\n",
      "The value is TimeInterval(value=2, interval=datetime.timedelta(0))\n",
      "The value is TimeInterval(value=3, interval=datetime.timedelta(0))\n",
      "The value is TimeInterval(value=4, interval=datetime.timedelta(0))\n",
      "The value is TimeInterval(value=5, interval=datetime.timedelta(microseconds=1000))\n",
      "The value is TimeInterval(value=6, interval=datetime.timedelta(0))\n"
     ]
    },
    {
     "data": {
      "text/plain": [
       "<rx.disposable.disposable.Disposable at 0x271cd4757c0>"
      ]
     },
     "execution_count": 39,
     "metadata": {},
     "output_type": "execute_result"
    }
   ],
   "source": [
    "#time_interval:- This operator will give the time elapsed between the values from the source observable\n",
    "\n",
    "from rx import of, operators as op\n",
    "from datetime import date\n",
    "test = of(1,2,3,4,5,6)\n",
    "sub1 = test.pipe(\n",
    "   op.time_interval()\n",
    ")\n",
    "sub1.subscribe(lambda x: print(\"The value is {0}\".format(x)))"
   ]
  },
  {
   "cell_type": "code",
   "execution_count": 40,
   "id": "54abb645",
   "metadata": {},
   "outputs": [
    {
     "name": "stdout",
     "output_type": "stream",
     "text": [
      "The value is 1\n",
      "The value is 2\n",
      "The value is 3\n",
      "The value is 4\n",
      "The value is 5\n",
      "The value is 6\n"
     ]
    },
    {
     "data": {
      "text/plain": [
       "<rx.disposable.disposable.Disposable at 0x271cd483220>"
      ]
     },
     "execution_count": 40,
     "metadata": {},
     "output_type": "execute_result"
    }
   ],
   "source": [
    "#timeout:-This operator will give all the value from the source observable, after the elapsed time or else will trigger an error\n",
    "\n",
    "from rx import of, operators as op\n",
    "from datetime import date\n",
    "test = of(1,2,3,4,5,6)\n",
    "sub1 = test.pipe(\n",
    "   op.timeout(5.0)\n",
    ")\n",
    "sub1.subscribe(lambda x: print(\"The value is {0}\".format(x)))"
   ]
  },
  {
   "cell_type": "code",
   "execution_count": 41,
   "id": "08a90394",
   "metadata": {},
   "outputs": [
    {
     "name": "stdout",
     "output_type": "stream",
     "text": [
      "The value is Timestamp(value=1, timestamp=datetime.datetime(2023, 3, 28, 10, 10, 29, 367972))\n",
      "The value is Timestamp(value=2, timestamp=datetime.datetime(2023, 3, 28, 10, 10, 29, 368971))\n",
      "The value is Timestamp(value=3, timestamp=datetime.datetime(2023, 3, 28, 10, 10, 29, 368971))\n",
      "The value is Timestamp(value=4, timestamp=datetime.datetime(2023, 3, 28, 10, 10, 29, 368971))\n",
      "The value is Timestamp(value=5, timestamp=datetime.datetime(2023, 3, 28, 10, 10, 29, 368971))\n",
      "The value is Timestamp(value=6, timestamp=datetime.datetime(2023, 3, 28, 10, 10, 29, 368971))\n"
     ]
    },
    {
     "data": {
      "text/plain": [
       "<rx.disposable.disposable.Disposable at 0x271cd483be0>"
      ]
     },
     "execution_count": 41,
     "metadata": {},
     "output_type": "execute_result"
    }
   ],
   "source": [
    "#timestamp:- This operator will attach a timestamp to all the values from the source observable.\n",
    "\n",
    "from rx import of, operators as op\n",
    "from datetime import date\n",
    "test = of(1,2,3,4,5,6)\n",
    "sub1 = test.pipe(\n",
    "   op.timestamp()\n",
    ")\n",
    "sub1.subscribe(lambda x: print(\"The value is {0}\".format(x)))"
   ]
  },
  {
   "cell_type": "markdown",
   "id": "0344dbc0",
   "metadata": {},
   "source": [
    "# Conditional and Boolean operators"
   ]
  },
  {
   "cell_type": "code",
   "execution_count": 42,
   "id": "7c552516",
   "metadata": {},
   "outputs": [
    {
     "name": "stdout",
     "output_type": "stream",
     "text": [
      "The result is False\n"
     ]
    },
    {
     "data": {
      "text/plain": [
       "<rx.disposable.disposable.Disposable at 0x271cd476250>"
      ]
     },
     "execution_count": 42,
     "metadata": {},
     "output_type": "execute_result"
    }
   ],
   "source": [
    "#all:- This operator will check if all the values from the source observable satisfy the condition given.\n",
    "\n",
    "from rx import of, operators as op\n",
    "test = of(1, 2, 3, 4, 5, 6, 7, 8, 9, 10)\n",
    "sub1 = test.pipe(\n",
    "   op.all(lambda a: a<10)\n",
    ")\n",
    "sub1.subscribe(lambda x: print(\"The result is {0}\".format(x)))"
   ]
  },
  {
   "cell_type": "code",
   "execution_count": 43,
   "id": "3b05a81c",
   "metadata": {},
   "outputs": [
    {
     "name": "stdout",
     "output_type": "stream",
     "text": [
      "The value is True\n"
     ]
    },
    {
     "data": {
      "text/plain": [
       "<rx.disposable.disposable.Disposable at 0x271cd46f1c0>"
      ]
     },
     "execution_count": 43,
     "metadata": {},
     "output_type": "execute_result"
    }
   ],
   "source": [
    "'''contains:- This operator will return an observable with the value true or false if the given value is present \n",
    "is the values of the source observable.'''\n",
    "\n",
    "from rx import of, operators as op\n",
    "test = of(17, 25, 34, 56, 78)\n",
    "sub1 = test.pipe(\n",
    "   op.contains(34)\n",
    ")\n",
    "sub1.subscribe(lambda x: print(\"The value is {0}\".format(x)))"
   ]
  },
  {
   "cell_type": "code",
   "execution_count": 44,
   "id": "fa2a3edc",
   "metadata": {},
   "outputs": [
    {
     "name": "stdout",
     "output_type": "stream",
     "text": [
      "The valus is True\n"
     ]
    },
    {
     "data": {
      "text/plain": [
       "<rx.disposable.disposable.Disposable at 0x271cd49a910>"
      ]
     },
     "execution_count": 44,
     "metadata": {},
     "output_type": "execute_result"
    }
   ],
   "source": [
    "#Using comparer\n",
    "from rx import of, operators as op\n",
    "test = of(17, 25, 34, 56, 78)\n",
    "sub1 = test.pipe(\n",
    "   op.contains(34, lambda x, y: x == y)\n",
    ")\n",
    "sub1.subscribe(lambda x: print(\"The valus is {0}\".format(x)))"
   ]
  },
  {
   "cell_type": "code",
   "execution_count": 45,
   "id": "447f8767",
   "metadata": {},
   "outputs": [
    {
     "name": "stdout",
     "output_type": "stream",
     "text": [
      "The value is None\n"
     ]
    },
    {
     "data": {
      "text/plain": [
       "<rx.disposable.disposable.Disposable at 0x271cd49ab80>"
      ]
     },
     "execution_count": 45,
     "metadata": {},
     "output_type": "execute_result"
    }
   ],
   "source": [
    "#default_if_empty:- This operator will return a default value if the source observable is empty.\n",
    "\n",
    "from rx import of, operators as op\n",
    "test = of()\n",
    "sub1 = test.pipe(\n",
    "   op.default_if_empty()\n",
    ")\n",
    "sub1.subscribe(lambda x: print(\"The value is {0}\".format(x)))"
   ]
  },
  {
   "cell_type": "code",
   "execution_count": 46,
   "id": "59ea3fd4",
   "metadata": {},
   "outputs": [
    {
     "name": "stdout",
     "output_type": "stream",
     "text": [
      "The value is True\n"
     ]
    },
    {
     "data": {
      "text/plain": [
       "<rx.disposable.disposable.Disposable at 0x271cd4a9070>"
      ]
     },
     "execution_count": 46,
     "metadata": {},
     "output_type": "execute_result"
    }
   ],
   "source": [
    "'''sequence_equal:-\n",
    "This operator will compare two sequences of observables, or an array of values and return an observable with \n",
    "the value true or false.'''\n",
    "\n",
    "from rx import of, operators as op\n",
    "test = of(1,2,3)\n",
    "test1 = of(1,2,3)\n",
    "sub1 = test.pipe(\n",
    "   op.sequence_equal(test1)\n",
    ")\n",
    "sub1.subscribe(lambda x: print(\"The value is {0}\".format(x)))"
   ]
  },
  {
   "cell_type": "code",
   "execution_count": 47,
   "id": "6a266534",
   "metadata": {},
   "outputs": [
    {
     "name": "stdout",
     "output_type": "stream",
     "text": [
      "The value is 0\n",
      "The value is 1\n",
      "The value is 2\n",
      "The value is 3\n",
      "The value is 4\n",
      "The value is 5\n",
      "The value is 6\n",
      "The value is 7\n",
      "The value is 8\n",
      "The value is 9\n"
     ]
    },
    {
     "data": {
      "text/plain": [
       "<rx.disposable.disposable.Disposable at 0x271cd4a95b0>"
      ]
     },
     "execution_count": 47,
     "metadata": {},
     "output_type": "execute_result"
    }
   ],
   "source": [
    "#skip_until:- This operator will discard values from the source observable until the second observable emits a value.\n",
    "\n",
    "from rx import interval,range, operators as op\n",
    "from datetime import date\n",
    "test = interval(0)\n",
    "test1 = range(10)\n",
    "sub1 = test1.pipe(\n",
    "   op.skip_until(test)\n",
    ")\n",
    "sub1.subscribe(lambda x: print(\"The value is {0}\".format(x)))"
   ]
  },
  {
   "cell_type": "code",
   "execution_count": 48,
   "id": "e1089d3c",
   "metadata": {},
   "outputs": [
    {
     "name": "stdout",
     "output_type": "stream",
     "text": [
      "The value is 5\n",
      "The value is 6\n",
      "The value is 7\n",
      "The value is 8\n",
      "The value is 9\n",
      "The value is 10\n"
     ]
    },
    {
     "data": {
      "text/plain": [
       "<rx.disposable.disposable.Disposable at 0x271cd4768e0>"
      ]
     },
     "execution_count": 48,
     "metadata": {},
     "output_type": "execute_result"
    }
   ],
   "source": [
    "#skip_while:=This operator will return an observable with values from the source observable that satisfies the condition passed.\n",
    "\n",
    "from rx import of, operators as op\n",
    "from datetime import date\n",
    "test = of(1,2,3,4,5,6,7,8,9,10)\n",
    "sub1 = test.pipe(\n",
    "   op.skip_while(lambda x : x < 5)\n",
    ")\n",
    "sub1.subscribe(lambda x: print(\"The value is {0}\".format(x)))"
   ]
  },
  {
   "cell_type": "code",
   "execution_count": 49,
   "id": "76030e48",
   "metadata": {},
   "outputs": [
    {
     "name": "stdout",
     "output_type": "stream",
     "text": [
      "The value is 0\n",
      "The value is 1\n",
      "The value is 2\n",
      "The value is 3\n",
      "The value is 4\n",
      "The value is 5\n",
      "The value is 6\n",
      "The value is 7\n",
      "The value is 8\n",
      "The value is 9\n",
      "The value is 10\n",
      "The value is 11\n",
      "The value is 12\n",
      "The value is 13\n",
      "The value is 14\n",
      "The value is 15\n",
      "The value is 16\n",
      "The value is 17\n",
      "The value is 18\n",
      "The value is 19\n",
      "The value is 20\n",
      "The value is 21\n",
      "The value is 22\n",
      "The value is 23\n",
      "The value is 24\n",
      "The value is 25\n",
      "The value is 26\n",
      "The value is 27\n",
      "The value is 28\n",
      "The value is 29\n",
      "The value is 30\n",
      "The value is 31\n",
      "The value is 32\n",
      "The value is 33\n",
      "The value is 34\n",
      "The value is 35\n",
      "The value is 36\n",
      "The value is 37\n",
      "The value is 38\n",
      "The value is 39\n",
      "The value is 40\n",
      "The value is 41\n",
      "The value is 42\n",
      "The value is 43\n",
      "The value is 44\n",
      "The value is 45\n",
      "The value is 46\n",
      "The value is 47\n",
      "The value is 48\n",
      "The value is 49\n"
     ]
    },
    {
     "data": {
      "text/plain": [
       "<rx.disposable.disposable.Disposable at 0x271cd4afe20>"
      ]
     },
     "execution_count": 49,
     "metadata": {},
     "output_type": "execute_result"
    }
   ],
   "source": [
    "#take_until:-This operator will discard values from the source observable after the second observable emits\n",
    "# a value or is terminated.\n",
    "\n",
    "from rx import timer,range, operators as op\n",
    "from datetime import date\n",
    "test = timer(0.01)\n",
    "test1 = range(50)\n",
    "sub1 = test1.pipe(\n",
    "   op.take_until(test)\n",
    ")\n",
    "sub1.subscribe(lambda x: print(\"The value is {0}\".format(x)))"
   ]
  },
  {
   "cell_type": "code",
   "execution_count": 50,
   "id": "d69caf37",
   "metadata": {},
   "outputs": [
    {
     "name": "stdout",
     "output_type": "stream",
     "text": [
      "The value is 1\n",
      "The value is 2\n",
      "The value is 3\n",
      "The value is 4\n"
     ]
    },
    {
     "data": {
      "text/plain": [
       "<rx.disposable.disposable.Disposable at 0x271cd4af880>"
      ]
     },
     "execution_count": 50,
     "metadata": {},
     "output_type": "execute_result"
    }
   ],
   "source": [
    "#take_while:- This operator will discard values from the source observable when the condition fails\n",
    "\n",
    "from rx import of, operators as op\n",
    "from datetime import date\n",
    "test = of(1,2,3,4,5,6,7,8,9,10)\n",
    "sub1 = test.pipe(\n",
    "   op.take_while(lambda a : a < 5)\n",
    ")\n",
    "sub1.subscribe(lambda x: print(\"The value is {0}\".format(x)))"
   ]
  },
  {
   "cell_type": "markdown",
   "id": "af26afa9",
   "metadata": {},
   "source": [
    "# Connectable Operators"
   ]
  },
  {
   "cell_type": "code",
   "execution_count": 51,
   "id": "3f9e77d6",
   "metadata": {},
   "outputs": [
    {
     "name": "stdout",
     "output_type": "stream",
     "text": [
      "From subscriber 1 - 0.1053691134284368\n",
      "From subscriber 2 – 0.1053691134284368\n"
     ]
    },
    {
     "data": {
      "text/plain": [
       "<rx.disposable.compositedisposable.CompositeDisposable at 0x271cd4b77c0>"
      ]
     },
     "execution_count": 51,
     "metadata": {},
     "output_type": "execute_result"
    }
   ],
   "source": [
    "#publish:- This method will convert the observable into a connectable observable\n",
    "\n",
    "from rx import create, range, operators as op\n",
    "import random\n",
    "def test_observable(observer, scheduler):\n",
    "   observer.on_next(random.random())\n",
    "   observer.on_completed()\n",
    "source = create(test_observable).pipe(op.publish())\n",
    "test1 = source.subscribe(on_next = lambda i: print(\"From subscriber 1 - {0}\".format(i)))\n",
    "test2 = source.subscribe(on_next = lambda i: print(\"From subscriber 2 – {0}\".format(i)))\n",
    "source.connect()"
   ]
  },
  {
   "cell_type": "code",
   "execution_count": 52,
   "id": "f5cc8410",
   "metadata": {},
   "outputs": [
    {
     "name": "stdout",
     "output_type": "stream",
     "text": [
      "From subscriber 1 - 0.76410268631334\n"
     ]
    }
   ],
   "source": [
    "#ref_count:- This operator will make the observable a normal observable.\n",
    "\n",
    "from rx import create, operators as op\n",
    "import random\n",
    "def test_observable(observer, scheduler):\n",
    "   observer.on_next(random.random())\n",
    "source = create(test_observable).pipe(op.publish(),op.ref_count())\n",
    "test1 = source.subscribe(on_next = lambda i: print(\"From subscriber 1 - {0}\".format(i)))\n",
    "test2 = source.subscribe(on_next = lambda i: print(\"From subscriber 2 - {0}\".format(i)))"
   ]
  },
  {
   "cell_type": "code",
   "execution_count": 53,
   "id": "c7b3b5e1",
   "metadata": {},
   "outputs": [
    {
     "name": "stdout",
     "output_type": "stream",
     "text": [
      "From subscriber 1 - 0.5998407681647847\n",
      "From subscriber 2 - 0.5998407681647847\n",
      "subscriber called after delay \n"
     ]
    }
   ],
   "source": [
    "'''replay:-\n",
    "This method works similar to the replaySubject. This method will return the same values, \n",
    "even if the observable has already emitted, and some of the subscribers are late in subscribing.'''\n",
    "\n",
    "from rx import create, range, operators as op\n",
    "import random\n",
    "from threading import Timer\n",
    "def test_observable(observer, scheduler):\n",
    "   observer.on_next(random.random())\n",
    "   observer.on_completed()\n",
    "source = create(test_observable).pipe(op.replay())\n",
    "test1 = source.subscribe(on_next = lambda i: print(\"From subscriber 1 - {0}\".format(i)))\n",
    "test2 = source.subscribe(on_next = lambda i: print(\"From subscriber 2 - {0}\".format(i)))\n",
    "source.connect()\n",
    "print(\"subscriber called after delay \")\n",
    "def last_subscriber():\n",
    "   test3 = source.subscribe(on_next = lambda i: print(\"From subscriber 3 - {0}\".format(i)))\n",
    "t = Timer(5.0, last_subscriber)\n",
    "t.start()"
   ]
  },
  {
   "cell_type": "markdown",
   "id": "4e1e951f",
   "metadata": {},
   "source": [
    "# Combining Operators"
   ]
  },
  {
   "cell_type": "code",
   "execution_count": 54,
   "id": "da5f9f5d",
   "metadata": {},
   "outputs": [
    {
     "name": "stdout",
     "output_type": "stream",
     "text": [
      "The value is 1\n",
      "The value is 2\n",
      "The value is 3\n",
      "The value is 4\n",
      "The value is 5\n",
      "The value is 6\n",
      "The value is 11\n",
      "The value is 12\n",
      "The value is 13\n",
      "The value is 14\n",
      "The value is 15\n",
      "The value is 16\n"
     ]
    },
    {
     "data": {
      "text/plain": [
       "<rx.disposable.disposable.Disposable at 0x271cd4af970>"
      ]
     },
     "execution_count": 54,
     "metadata": {},
     "output_type": "execute_result"
    }
   ],
   "source": [
    "#merge:- This operator will merge given observables.\n",
    "\n",
    "from rx import of, operators as op\n",
    "from datetime import date\n",
    "test = of(1,2,3,4,5,6)\n",
    "test2 = of(11,12,13,14,15,16)\n",
    "sub1 = test.pipe(\n",
    "   op.merge(test2)\n",
    ")\n",
    "sub1.subscribe(lambda x: print(\"The value is {0}\".format(x)))"
   ]
  },
  {
   "cell_type": "code",
   "execution_count": 55,
   "id": "88aabe67",
   "metadata": {},
   "outputs": [
    {
     "name": "stdout",
     "output_type": "stream",
     "text": [
      "The value is -2\n",
      "The value is -1\n",
      "The value is 0\n",
      "The value is 1\n",
      "The value is 2\n",
      "The value is 3\n",
      "The value is 4\n",
      "The value is 5\n",
      "The value is 6\n"
     ]
    },
    {
     "data": {
      "text/plain": [
       "<rx.disposable.disposable.Disposable at 0x271cd476520>"
      ]
     },
     "execution_count": 55,
     "metadata": {},
     "output_type": "execute_result"
    }
   ],
   "source": [
    "#start_with\n",
    "#This operator will take in the given values, and add at the start of the source observable return back the full sequence.\n",
    "\n",
    "from rx import of, operators as op\n",
    "from datetime import date\n",
    "test = of(1,2,3,4,5,6)\n",
    "sub1 = test.pipe(\n",
    "   op.start_with(-2,-1,0)\n",
    ")\n",
    "sub1.subscribe(lambda x: print(\"The value is {0}\".format(x)))"
   ]
  },
  {
   "cell_type": "code",
   "execution_count": 1,
   "id": "633e3780",
   "metadata": {},
   "outputs": [
    {
     "data": {
      "text/plain": [
       "<rx.disposable.disposable.Disposable at 0x2746671f610>"
      ]
     },
     "execution_count": 1,
     "metadata": {},
     "output_type": "execute_result"
    }
   ],
   "source": [
    "#zip:-\n",
    "#This operator returns an observable with values in a tuple form, \n",
    "#which is formed by taking the first value of the given observable and so on.\n",
    "\n",
    "from rx import of, operators as op\n",
    "from datetime import date\n",
    "test = of(1,2,3,4,5,6)\n",
    "test1 = of(4,8,12,16,20)\n",
    "test2 = of(5,10,15,20,25)\n",
    "sub1 = test.pipe(\n",
    "   op.zip(test1, test2)\n",
    ")\n",
    "sub1.subscribe(lambda x: print(\"The value is {0}\".format(x)))"
   ]
  },
  {
   "cell_type": "markdown",
   "id": "726d3b9e",
   "metadata": {},
   "source": [
    "# Custom Operators"
   ]
  },
  {
   "cell_type": "code",
   "execution_count": 57,
   "id": "f7b4f4b0",
   "metadata": {},
   "outputs": [
    {
     "name": "stdout",
     "output_type": "stream",
     "text": [
      "Received 5\n",
      "Received 5\n",
      "Received 5\n",
      "Received 7\n"
     ]
    },
    {
     "data": {
      "text/plain": [
       "<reactivex.disposable.disposable.Disposable at 0x271cd4c1400>"
      ]
     },
     "execution_count": 57,
     "metadata": {},
     "output_type": "execute_result"
    }
   ],
   "source": [
    "import reactivex\n",
    "from reactivex import operators as op\n",
    "\n",
    "def length_more_than_5():\n",
    "    # In v4 rx.pipe has been renamed to `compose`\n",
    "    return reactivex.compose(\n",
    "        op.map(lambda s: len(s)),\n",
    "        op.filter(lambda i: i >= 5),\n",
    "    )\n",
    "\n",
    "reactivex.of(\"Alpha\", \"Beta\", \"Gamma\", \"Delta\", \"Epsilon\").pipe(\n",
    "    length_more_than_5()\n",
    ").subscribe(lambda value: print(\"Received {0}\".format(value)))"
   ]
  },
  {
   "cell_type": "code",
   "execution_count": 58,
   "id": "549da322",
   "metadata": {},
   "outputs": [
    {
     "name": "stdout",
     "output_type": "stream",
     "text": [
      "Value is 30\n"
     ]
    },
    {
     "data": {
      "text/plain": [
       "<rx.disposable.disposable.Disposable at 0x271cd4b1a00>"
      ]
     },
     "execution_count": 58,
     "metadata": {},
     "output_type": "execute_result"
    }
   ],
   "source": [
    "import rx\n",
    "from rx import operators as ops\n",
    "rx.of(1,2,3,4,5,6,7,8,9,10).pipe(\n",
    "   ops.filter(lambda i: i %2 == 0),\n",
    "   ops.sum()\n",
    ").subscribe(lambda x: print(\"Value is {0}\".format(x)))"
   ]
  },
  {
   "cell_type": "code",
   "execution_count": 59,
   "id": "80821bc6",
   "metadata": {},
   "outputs": [
    {
     "name": "stdout",
     "output_type": "stream",
     "text": [
      "Recieved alpha\n",
      "Recieved beta\n",
      "Recieved gamma\n",
      "Recieved delta\n",
      "Recieved epsilon\n"
     ]
    },
    {
     "data": {
      "text/plain": [
       "<reactivex.disposable.disposable.Disposable at 0x271cd4c5c40>"
      ]
     },
     "execution_count": 59,
     "metadata": {},
     "output_type": "execute_result"
    }
   ],
   "source": [
    "#convert strings into lowercase\n",
    "import reactivex\n",
    "from reactivex import of, operators as op\n",
    "def convert_lowercase():\n",
    "    def _lowercase(source):\n",
    "        def subscribe(observer, scheduler = None):\n",
    "            def on_next(value):\n",
    "                observer.on_next(value.lower())\n",
    "\n",
    "            return source.subscribe(\n",
    "                on_next,\n",
    "                observer.on_error,\n",
    "                observer.on_completed,\n",
    "                scheduler=scheduler)\n",
    "        return reactivex.create(subscribe)\n",
    "    return _lowercase\n",
    "reactivex.of(\"Alpha\", \"Beta\", \"Gamma\", \"Delta\", \"Epsilon\").pipe(convert_lowercase()).subscribe(\n",
    "    lambda value: print(\"Recieved {0}\".format(value)))"
   ]
  },
  {
   "cell_type": "markdown",
   "id": "70061ba9",
   "metadata": {},
   "source": [
    "# Create a subject"
   ]
  },
  {
   "cell_type": "code",
   "execution_count": 60,
   "id": "e7c8de4a",
   "metadata": {},
   "outputs": [
    {
     "name": "stdout",
     "output_type": "stream",
     "text": [
      "The value is A\n",
      "The value is A\n",
      "The value is B\n",
      "The value is B\n",
      "The value is C\n",
      "The value is C\n"
     ]
    }
   ],
   "source": [
    "'''A subject is an observable sequence, as well as, an observer that can multicast, i.e.\n",
    "talk to many observers that have subscribed.'''\n",
    "\n",
    "from rx.subject import Subject\n",
    "\n",
    "#Created a subject\n",
    "subject_test=Subject()\n",
    "\n",
    "#Subscribe to a Subject\n",
    "subject_test.subscribe(\n",
    "  lambda x: print(\"The value is {0}\".format(x))\n",
    ")\n",
    "subject_test.subscribe(\n",
    "  lambda x: print(\"The value is {0}\".format(x))\n",
    ")\n",
    "\n",
    "#Passing Data to Subject\n",
    "subject_test.on_next(\"A\")\n",
    "subject_test.on_next(\"B\")\n",
    "subject_test.on_next(\"C\")"
   ]
  },
  {
   "cell_type": "code",
   "execution_count": 61,
   "id": "aad1da34",
   "metadata": {},
   "outputs": [
    {
     "name": "stdout",
     "output_type": "stream",
     "text": [
      "The value is A\n",
      "The value is A\n"
     ]
    }
   ],
   "source": [
    "#We can use the on_completed() method, to stop the subject execution as shown below.\n",
    "\n",
    "from rx.subject import Subject\n",
    "subject_test = Subject()\n",
    "subject_test.subscribe(\n",
    "   lambda x: print(\"The value is {0}\".format(x))\n",
    ")\n",
    "subject_test.subscribe(\n",
    "   lambda x: print(\"The value is {0}\".format(x))\n",
    ")\n",
    "subject_test.on_next(\"A\")\n",
    "subject_test.on_completed()\n",
    "subject_test.on_next(\"B\")\n",
    "#Once we call complete, the next method called later is not invoked."
   ]
  },
  {
   "cell_type": "code",
   "execution_count": 62,
   "id": "3f1f4e8a",
   "metadata": {},
   "outputs": [
    {
     "name": "stdout",
     "output_type": "stream",
     "text": [
      "Error : There is an Error!\n",
      "Error : There is an Error!\n"
     ]
    }
   ],
   "source": [
    "from rx.subject import Subject\n",
    "subject_test = Subject()\n",
    "subject_test.subscribe(\n",
    "   on_error = lambda e: print(\"Error : {0}\".format(e))\n",
    ")\n",
    "subject_test.subscribe(\n",
    "   on_error = lambda e: print(\"Error : {0}\".format(e))\n",
    ")\n",
    "subject_test.on_error(Exception('There is an Error!'))"
   ]
  },
  {
   "cell_type": "markdown",
   "id": "435a0af2",
   "metadata": {},
   "source": [
    "# BehaviorSubject"
   ]
  },
  {
   "cell_type": "code",
   "execution_count": 63,
   "id": "dabdc6d4",
   "metadata": {},
   "outputs": [
    {
     "name": "stdout",
     "output_type": "stream",
     "text": [
      "Observer A : Testing Behaviour Subject\n",
      "Observer A : Hello\n",
      "Observer B : Hello\n",
      "Observer A : Last call to Behaviour Subject\n",
      "Observer B : Last call to Behaviour Subject\n"
     ]
    }
   ],
   "source": [
    "#BehaviorSubject will give you the latest value when called. You can create behavior subject as shown below −\n",
    "\n",
    "from rx.subject import BehaviorSubject\n",
    "\n",
    "#initialized the behaviour subject with value:Testing Behaviour Subject\n",
    "behavior_subject = BehaviorSubject(\"Testing Behaviour Subject\");\n",
    "behavior_subject.subscribe(\n",
    "   lambda x: print(\"Observer A : {0}\".format(x))\n",
    ")\n",
    "behavior_subject.on_next(\"Hello\")\n",
    "behavior_subject.subscribe(\n",
    "   lambda x: print(\"Observer B : {0}\".format(x))\n",
    ")\n",
    "behavior_subject.on_next(\"Last call to Behaviour Subject\")"
   ]
  },
  {
   "cell_type": "markdown",
   "id": "7f735699",
   "metadata": {},
   "source": [
    "# Replay Subject"
   ]
  },
  {
   "cell_type": "code",
   "execution_count": 64,
   "id": "2b67603f",
   "metadata": {},
   "outputs": [
    {
     "name": "stdout",
     "output_type": "stream",
     "text": [
      "Testing Replay Subject A: 1\n",
      "Testing Replay Subject A: 2\n",
      "Testing Replay Subject A: 3\n",
      "Testing Replay Subject B: 2\n",
      "Testing Replay Subject B: 3\n",
      "Testing Replay Subject A: 5\n",
      "Testing Replay Subject B: 5\n"
     ]
    }
   ],
   "source": [
    "#A replaysubject is similar to behavior subject, wherein, it can buffer the values and replay the same to the new subscribers.\n",
    "\n",
    "from rx.subject import ReplaySubject\n",
    "replay_subject = ReplaySubject(2)\n",
    "replay_subject.subscribe(lambda x: print(\"Testing Replay Subject A: {0}\".format(x)))\n",
    "replay_subject.on_next(1)\n",
    "replay_subject.on_next(2)\n",
    "replay_subject.on_next(3)\n",
    "replay_subject.subscribe(lambda x: print(\"Testing Replay Subject B: {0}\".format(x)));\n",
    "replay_subject.on_next(5)\n",
    "\n",
    "#The buffer value used is 2 on the replay subject. So,\n",
    "#the last two values will be buffered and used for the new subscribers called."
   ]
  },
  {
   "cell_type": "markdown",
   "id": "849f56e0",
   "metadata": {},
   "source": [
    "# AsyncSubject"
   ]
  },
  {
   "cell_type": "code",
   "execution_count": 65,
   "id": "1b10773c",
   "metadata": {},
   "outputs": [
    {
     "name": "stdout",
     "output_type": "stream",
     "text": [
      "Testing Async Subject A: 2\n",
      "Testing Async Subject B: 2\n"
     ]
    },
    {
     "data": {
      "text/plain": [
       "<rx.disposable.disposable.Disposable at 0x271cd4e1580>"
      ]
     },
     "execution_count": 65,
     "metadata": {},
     "output_type": "execute_result"
    }
   ],
   "source": [
    "'''In the case of AsyncSubject, the last value called is passed to the subscriber, and it will be done only\n",
    "after the complete() method is called.'''\n",
    "\n",
    "from rx.subject import AsyncSubject\n",
    "async_subject = AsyncSubject()\n",
    "async_subject.subscribe(lambda x: print(\"Testing Async Subject A: {0}\".format(x)))\n",
    "async_subject.on_next(1)\n",
    "async_subject.on_next(2)\n",
    "async_subject.on_completed()\n",
    "async_subject.subscribe(lambda x: print(\"Testing Async Subject B: {0}\".format(x)))\n",
    "\n",
    "#Here, before complete is called, the last value passed to the subject is 2, and the same is given to the subscribers."
   ]
  },
  {
   "cell_type": "markdown",
   "id": "beb93dae",
   "metadata": {},
   "source": [
    "# Concurrency Using Scheduler"
   ]
  },
  {
   "cell_type": "code",
   "execution_count": null,
   "id": "59a98bb9",
   "metadata": {},
   "outputs": [
    {
     "name": "stdout",
     "output_type": "stream",
     "text": [
      "From Task 1: 1\n",
      "From Task 1: 2\n",
      "From Task 1: 3\n",
      "From subscriber 3 - 0.5998407681647847\n",
      "From Task 1: 4\n",
      "From Task 1: 5\n",
      "Task 1 complete\n",
      "From Task 2: 1\n",
      "From Task 2: 2\n",
      "From Task 2: 3\n",
      "From Task 2: 4\n",
      "Task 2 complete\n"
     ]
    }
   ],
   "source": [
    "'''One important feature of RxPy is concurrency, i.e. to allow the task to execute in parallel.\n",
    "To make that happen, we have two operators subscribe_on() and observe_on() that will work with a scheduler, \n",
    "that will decide the execution of the subscribed task.'''\n",
    "\n",
    "import random\n",
    "import time\n",
    "import rx\n",
    "from rx import operators as ops\n",
    "def adding_delay(value):\n",
    "   time.sleep(random.randint(5, 20) * 0.1)\n",
    "   return value\n",
    "# Task 1\n",
    "rx.of(1,2,3,4,5).pipe(\n",
    "   ops.map(lambda a: adding_delay(a))\n",
    ").subscribe(\n",
    "   lambda s: print(\"From Task 1: {0}\".format(s)),\n",
    "   lambda e: print(e),\n",
    "   lambda: print(\"Task 1 complete\")\n",
    ")\n",
    "# Task 2\n",
    "rx.range(1, 5).pipe(\n",
    "   ops.map(lambda a: adding_delay(a))\n",
    ").subscribe(\n",
    "   lambda s: print(\"From Task 2: {0}\".format(s)),\n",
    "   lambda e: print(e),\n",
    "   lambda: print(\"Task 2 complete\")\n",
    ") \n",
    "input(\"Press any key to exit\\n\")\n",
    "\n",
    "#In the above example, I have 2 tasks: Task 1 and Task 2. The execution of the task is in sequence. \n",
    "#The second task starts only, when the first task is done."
   ]
  },
  {
   "cell_type": "code",
   "execution_count": null,
   "id": "31c2ab91",
   "metadata": {},
   "outputs": [],
   "source": [
    "'''RxPy supports many Scheduler, and here, we are going to make use of ThreadPoolScheduler. ThreadPoolScheduler mainly will try \n",
    "   to manage with the CPU threads available.\n",
    "\n",
    "   In the example, we have seen earlier, we are going to make use of a multiprocessing module that will give us the cpu_count. \n",
    "   The count will be given to the ThreadPoolScheduler that will manage to get the task working in parallel based on the threads\n",
    "   available.'''\n",
    "\n",
    "\n",
    "import multiprocessing\n",
    "import random\n",
    "import time\n",
    "from threading import current_thread\n",
    "import rx\n",
    "from rx.scheduler import ThreadPoolScheduler\n",
    "from rx import operators as ops\n",
    "# calculate cpu count, using which will create a ThreadPoolScheduler\n",
    "thread_count = multiprocessing.cpu_count()\n",
    "thread_pool_scheduler = ThreadPoolScheduler(thread_count)\n",
    "print(\"Cpu count is : {0}\".format(thread_count))\n",
    "def adding_delay(value):\n",
    "   time.sleep(random.randint(5, 20) * 0.1)\n",
    "   return value\n",
    "# Task 1\n",
    "rx.of(1,2,3,4,5).pipe(\n",
    "   ops.map(lambda a: adding_delay(a)),\n",
    "   ops.subscribe_on(thread_pool_scheduler)\n",
    ").subscribe(\n",
    "   lambda s: print(\"From Task 1: {0}\".format(s)),\n",
    "   lambda e: print(e),\n",
    "   lambda: print(\"Task 1 complete\")\n",
    ")\n",
    "# Task 2\n",
    "rx.range(1, 5).pipe(\n",
    "   ops.map(lambda a: adding_delay(a)),\n",
    "   ops.subscribe_on(thread_pool_scheduler)\n",
    ").subscribe(\n",
    "   lambda s: print(\"From Task 2: {0}\".format(s)),\n",
    "   lambda e: print(e),\n",
    "   lambda: print(\"Task 2 complete\")\n",
    ")\n",
    "input(\"Press any key to exit\\n\")\n",
    "\n",
    "#In the above code, I have 2 tasks and the cpu_count is 4. Since, the task is 2 and threads available with us are 4,\n",
    "#both the task can start in parallel."
   ]
  },
  {
   "cell_type": "code",
   "execution_count": null,
   "id": "2d874d05",
   "metadata": {},
   "outputs": [],
   "source": [
    "import multiprocessing\n",
    "import random\n",
    "import time\n",
    "from threading import current_thread\n",
    "import rx\n",
    "from rx.scheduler import ThreadPoolScheduler\n",
    "from rx import operators as ops\n",
    "# calculate cpu count, using which will create a ThreadPoolScheduler\n",
    "thread_count = multiprocessing.cpu_count()\n",
    "thread_pool_scheduler = ThreadPoolScheduler(thread_count)\n",
    "print(\"Cpu count is : {0}\".format(thread_count))\n",
    "def adding_delay(value):\n",
    "   time.sleep(random.randint(5, 20) * 0.1)\n",
    "   return value\n",
    "# Task 1\n",
    "rx.of(1,2,3,4,5).pipe(\n",
    "   ops.map(lambda a: adding_delay(a)),\n",
    "   ops.subscribe_on(thread_pool_scheduler)\n",
    ").subscribe(\n",
    "   lambda s: print(\"From Task 1: {0}\".format(s)),\n",
    "   lambda e: print(e),\n",
    "   lambda: print(\"Task 1 complete\")\n",
    ")\n",
    "# Task 2\n",
    "rx.range(1, 5).pipe(\n",
    "   ops.map(lambda a: adding_delay(a)),\n",
    "   ops.subscribe_on(thread_pool_scheduler)\n",
    ").subscribe(\n",
    "   lambda s: print(\"From Task 2: {0}\".format(s)),\n",
    "   lambda e: print(e),\n",
    "   lambda: print(\"Task 2 complete\")\n",
    ")\n",
    "#Task 3\n",
    "rx.range(1, 5).pipe(\n",
    "   ops.map(lambda a: adding_delay(a)),\n",
    "   ops.subscribe_on(thread_pool_scheduler)\n",
    ").subscribe(\n",
    "   lambda s: print(\"From Task 3: {0}\".format(s)),\n",
    "   lambda e: print(e),\n",
    "   lambda: print(\"Task 3 complete\")\n",
    ")\n",
    "#Task 4\n",
    "rx.range(1, 5).pipe(\n",
    "   ops.map(lambda a: adding_delay(a)),\n",
    "   ops.subscribe_on(thread_pool_scheduler)\n",
    ").subscribe(\n",
    "   lambda s: print(\"From Task 4: {0}\".format(s)),\n",
    "   lambda e: print(e),\n",
    "   lambda: print(\"Task 4 complete\")\n",
    ")\n",
    "#Task 5\n",
    "rx.range(1, 5).pipe(\n",
    "   ops.map(lambda a: adding_delay(a)),\n",
    "   ops.observe_on(thread_pool_scheduler)\n",
    ").subscribe(\n",
    "   lambda s: print(\"From Task 5: {0}\".format(s)),\n",
    "   lambda e: print(e),\n",
    "   lambda: print(\"Task 5 complete\")\n",
    ")\n",
    "input(\"Press any key to exit\\n\")"
   ]
  },
  {
   "cell_type": "markdown",
   "id": "2e1dffd7",
   "metadata": {},
   "source": [
    "# RxPY - Examples"
   ]
  },
  {
   "cell_type": "markdown",
   "id": "e6056c81",
   "metadata": {},
   "source": [
    "Here, is a very simple example, wherein, I am getting user data from this URL −https://jsonplaceholder.typicode.com/users.\n",
    "Filtering the data, to give the names starting with \"C\", and later using the map to return the names only.\n",
    "Here is the output for the same."
   ]
  },
  {
   "cell_type": "code",
   "execution_count": null,
   "id": "69477e93",
   "metadata": {},
   "outputs": [],
   "source": [
    "import requests\n",
    "import rx\n",
    "import json\n",
    "from rx import operators as ops\n",
    "def filternames(x):\n",
    "   if (x[\"name\"].startswith(\"C\")):\n",
    "      return x[\"name\"]\n",
    "   else :\n",
    "      return \"\"\n",
    "content = requests.get('https://jsonplaceholder.typicode.com/users')\n",
    "y = json.loads(content.text)\n",
    "source = rx.from_(y)\n",
    "case1 = source.pipe(\n",
    "   ops.filter(lambda c: filternames(c)),\n",
    "   ops.map(lambda a:a[\"name\"])\n",
    ")\n",
    "case1.subscribe(\n",
    "   on_next = lambda i: print(\"Got - {0}\".format(i)), \n",
    "   on_error = lambda e: print(\"Error : {0}\".format(e)),\n",
    "   on_completed = lambda: print(\"Job Done!\"),\n",
    ")"
   ]
  },
  {
   "cell_type": "markdown",
   "id": "4ecabd23",
   "metadata": {},
   "source": [
    "# Difference between observable and subject\n",
    "In this example, we will see the difference between an observable and a subject. "
   ]
  },
  {
   "cell_type": "code",
   "execution_count": null,
   "id": "84a22b3e",
   "metadata": {},
   "outputs": [],
   "source": [
    "from rx import of, operators as op\n",
    "import random\n",
    "test1 = of(1,2,3,4,5)\n",
    "sub1 = test1.pipe(\n",
    "   op.map(lambda a : a+random.random())\n",
    ")\n",
    "print(\"From first subscriber\")\n",
    "subscriber1 = sub1.subscribe(lambda i: print(\"From sub1 {0}\".format(i)))\n",
    "print(\"From second subscriber\")\n",
    "subscriber2 = sub1.subscribe(lambda i: print(\"From sub2 {0}\".format(i)))"
   ]
  },
  {
   "cell_type": "markdown",
   "id": "fb58e2db",
   "metadata": {},
   "source": [
    "In the above example, every time you subscribe to the observable, it will give you new values."
   ]
  },
  {
   "cell_type": "markdown",
   "id": "4d42017d",
   "metadata": {},
   "source": [
    "# Subject Example"
   ]
  },
  {
   "cell_type": "code",
   "execution_count": null,
   "id": "f0e2f284",
   "metadata": {},
   "outputs": [],
   "source": [
    "from rx import of, operators as op\n",
    "import random\n",
    "from rx.subject import Subject\n",
    "subject_test = Subject()\n",
    "subject_test.subscribe(\n",
    "   lambda x: print(\"From sub1 {0}\".format(x))\n",
    ")\n",
    "subject_test.subscribe(\n",
    "   lambda x: print(\"From sub2 {0}\".format(x))\n",
    ")\n",
    "test1 = of(1,2,3,4,5)\n",
    "sub1 = test1.pipe(\n",
    "   op.map(lambda a : a+random.random())\n",
    ")\n",
    "subscriber = sub1.subscribe(subject_test)"
   ]
  },
  {
   "cell_type": "markdown",
   "id": "9cf32161",
   "metadata": {},
   "source": [
    "if you see the values are shared, between both subscribers using the subject."
   ]
  },
  {
   "cell_type": "markdown",
   "id": "95c63a60",
   "metadata": {},
   "source": [
    "# Cold Observables"
   ]
  },
  {
   "cell_type": "markdown",
   "id": "e09d76d0",
   "metadata": {},
   "source": [
    "Cold observables, are observable that are executed, and renders data each time it is subscribed. When it is subscribed, the observable is executed and the fresh values are given."
   ]
  },
  {
   "cell_type": "code",
   "execution_count": 3,
   "id": "2bfc914c",
   "metadata": {},
   "outputs": [
    {
     "name": "stdout",
     "output_type": "stream",
     "text": [
      "From first subscriber\n",
      "From sub1 1.6191626954465463\n",
      "From sub1 2.942122459662457\n",
      "From sub1 3.830608236467449\n",
      "From sub1 4.638971436793946\n",
      "From sub1 5.652319934352232\n",
      "From second subscriber\n",
      "From sub2 1.5700378558676036\n",
      "From sub2 2.1334271572716705\n",
      "From sub2 3.895498960846743\n",
      "From sub2 4.574399102972901\n",
      "From sub2 5.91333073669314\n"
     ]
    }
   ],
   "source": [
    "from rx import of, operators as op\n",
    "import random\n",
    "test1 = of(1,2,3,4,5)\n",
    "sub1 = test1.pipe(\n",
    "   op.map(lambda a : a+random.random())\n",
    ")\n",
    "print(\"From first subscriber\")\n",
    "subscriber1 = sub1.subscribe(lambda i: print(\"From sub1 {0}\".format(i)))\n",
    "print(\"From second subscriber\")\n",
    "subscriber2 = sub1.subscribe(lambda i: print(\"From sub2 {0}\".format(i)))"
   ]
  },
  {
   "cell_type": "markdown",
   "id": "a6aee79f",
   "metadata": {},
   "source": [
    "In the above example, every time you subscribe to the observable, it will execute the observable and emit values. The values can also differ from subscriber to subscriber as shown in the example above."
   ]
  },
  {
   "cell_type": "markdown",
   "id": "c3d3aeac",
   "metadata": {},
   "source": [
    "# Hot Observables"
   ]
  },
  {
   "cell_type": "markdown",
   "id": "a08fe5cb",
   "metadata": {},
   "source": [
    "In the case of hot observable, they will emit the values when they are ready and will not always wait for a subscription. When the values are emitted, all the subscribers will get the same value.\n",
    "\n",
    "You can make use of hot observable when you want values to emitted when the observable is ready, or you want to share the same values to all your subscribers."
   ]
  },
  {
   "cell_type": "code",
   "execution_count": 2,
   "id": "6645d8c6",
   "metadata": {},
   "outputs": [
    {
     "name": "stdout",
     "output_type": "stream",
     "text": [
      "From sub1 1.2944047229592097\n",
      "From sub2 1.2944047229592097\n",
      "From sub1 2.1917827573897743\n",
      "From sub2 2.1917827573897743\n",
      "From sub1 3.1145205379650953\n",
      "From sub2 3.1145205379650953\n",
      "From sub1 4.905961315404904\n",
      "From sub2 4.905961315404904\n",
      "From sub1 5.1676095424576705\n",
      "From sub2 5.1676095424576705\n"
     ]
    }
   ],
   "source": [
    "from rx import of, operators as op\n",
    "import random\n",
    "from rx.subject import Subject\n",
    "subject_test = Subject()\n",
    "subject_test.subscribe(\n",
    "   lambda x: print(\"From sub1 {0}\".format(x))\n",
    ")\n",
    "subject_test.subscribe(\n",
    "   lambda x: print(\"From sub2 {0}\".format(x))\n",
    ")\n",
    "test1 = of(1,2,3,4,5)\n",
    "sub1 = test1.pipe(\n",
    "   op.map(lambda a : a+random.random())\n",
    ")\n",
    "subscriber = sub1.subscribe(subject_test)"
   ]
  },
  {
   "cell_type": "markdown",
   "id": "5b28945a",
   "metadata": {},
   "source": [
    " If you see, the same value is shared between the subscribers. You can achieve the same using publish () connectable observable operator."
   ]
  },
  {
   "cell_type": "markdown",
   "id": "7945b777",
   "metadata": {},
   "source": [
    "# Testing in RxPy"
   ]
  },
  {
   "cell_type": "code",
   "execution_count": null,
   "id": "9b4b2c24",
   "metadata": {},
   "outputs": [],
   "source": [
    "#basic example\n",
    "from reactivex.testing import ReactiveTest, TestScheduler\n",
    "from reactivex import operators\n",
    "\n",
    "def test_double():\n",
    "    # Create a scheduler\n",
    "    scheduler = TestScheduler()\n",
    "    # Define one or more source\n",
    "    source = scheduler.create_hot_observable(\n",
    "        ReactiveTest.on_next(250, 3),\n",
    "        ReactiveTest.on_next(350, 5),\n",
    "    )\n",
    "\n",
    "    # Define how the observable/operator is used on the source\n",
    "    def create():\n",
    "        return source.pipe(operators.map(lambda x: 2 * x))\n",
    "\n",
    "    # trigger subscription and record emissions\n",
    "    results = scheduler.start(create)\n",
    "\n",
    "    # check the messages and potentially subscriptions\n",
    "    assert results.messages == [\n",
    "        ReactiveTest.on_next(250, 6),\n",
    "        ReactiveTest.on_next(350, 10),\n",
    "    ]"
   ]
  },
  {
   "cell_type": "code",
   "execution_count": null,
   "id": "4f759e7f",
   "metadata": {},
   "outputs": [],
   "source": []
  }
 ],
 "metadata": {
  "kernelspec": {
   "display_name": "Python 3 (ipykernel)",
   "language": "python",
   "name": "python3"
  },
  "language_info": {
   "codemirror_mode": {
    "name": "ipython",
    "version": 3
   },
   "file_extension": ".py",
   "mimetype": "text/x-python",
   "name": "python",
   "nbconvert_exporter": "python",
   "pygments_lexer": "ipython3",
   "version": "3.9.7"
  }
 },
 "nbformat": 4,
 "nbformat_minor": 5
}
