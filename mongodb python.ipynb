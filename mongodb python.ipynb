{
 "cells": [
  {
   "cell_type": "markdown",
   "id": "b0e95387",
   "metadata": {},
   "source": [
    "# Installing Pymongo"
   ]
  },
  {
   "cell_type": "code",
   "execution_count": 1,
   "id": "e4f9e681",
   "metadata": {},
   "outputs": [
    {
     "name": "stdout",
     "output_type": "stream",
     "text": [
      "Requirement already satisfied: pymongo in c:\\users\\kiran\\anaconda3\\lib\\site-packages (4.3.3)\n",
      "Requirement already satisfied: dnspython<3.0.0,>=1.16.0 in c:\\users\\kiran\\anaconda3\\lib\\site-packages (from pymongo) (2.3.0)\n",
      "Note: you may need to restart the kernel to use updated packages.\n"
     ]
    }
   ],
   "source": [
    "pip install pymongo"
   ]
  },
  {
   "cell_type": "markdown",
   "id": "edc56bee",
   "metadata": {},
   "source": [
    "# Creating Database"
   ]
  },
  {
   "cell_type": "code",
   "execution_count": 2,
   "id": "79b7657e",
   "metadata": {},
   "outputs": [],
   "source": [
    "import pymongo\n",
    "\n",
    "myclient = pymongo.MongoClient(\"mongodb://localhost:27017\")\n",
    "mydb = myclient[\"Students\"]\n",
    "\n",
    "#Creating collection\n",
    "mycol = mydb[\"Student_info\"]\n",
    "\n",
    "#Adding multiple objects into our collection\n",
    "mylist=[\n",
    "    {\"_id\":1, \"Name\":\"Amit Yadav\", \"Branch\":\"CSE\", \"Age\":22},\n",
    "    {\"_id\":2, \"Name\":\"Dipak Pal\", \"Branch\":\"CSE\", \"Age\":23},\n",
    "    {\"_id\":3, \"Name\":\"Tushar Shukla\", \"Branch\":\"CSE\", \"Age\":22},\n",
    "    {\"_id\":4, \"Name\":\"Zaheen Patel\", \"Branch\":\"CSE\", \"Age\":24},\n",
    "    {\"_id\":5, \"Name\":\"Rahul Chauhan\", \"Branch\":\"CSE\", \"Age\":21}\n",
    "]\n"
   ]
  },
  {
   "cell_type": "markdown",
   "id": "f5c823e0",
   "metadata": {},
   "source": [
    "# Read Operations"
   ]
  },
  {
   "cell_type": "code",
   "execution_count": 15,
   "id": "e287c2bf",
   "metadata": {},
   "outputs": [
    {
     "name": "stdout",
     "output_type": "stream",
     "text": [
      "{'_id': 1, 'Name': 'Amit Yadav', 'Branch': 'CSE', 'Age': 25}\n"
     ]
    }
   ],
   "source": [
    "#find one\n",
    "myclient= pymongo.MongoClient(\"mongodb://localhost:27017\")\n",
    "mydb=myclient[\"Students\"]\n",
    "mycol=mydb[\"Student_info\"]\n",
    "\n",
    "x=mycol.find_one()\n",
    "print(x)"
   ]
  },
  {
   "cell_type": "code",
   "execution_count": 3,
   "id": "1e14d5b3",
   "metadata": {},
   "outputs": [
    {
     "name": "stdout",
     "output_type": "stream",
     "text": [
      "{'_id': 1, 'Name': 'Amit Yadav', 'Branch': 'CSE', 'Age': 25}\n",
      "{'_id': 2, 'Name': 'Dipak Pal', 'Branch': 'CSE', 'Age': 23}\n",
      "{'_id': 5, 'Name': 'Rahul Chauhan', 'Branch': 'CSE', 'Age': 21}\n"
     ]
    }
   ],
   "source": [
    "#Without parameters\n",
    "import pymongo\n",
    "\n",
    "myclient = pymongo.MongoClient(\"mongodb://localhost:27017\")\n",
    "mydb = myclient[\"Students\"]\n",
    "mycol = mydb[\"Student_info\"]\n",
    "\n",
    "#find all\n",
    "for x in mycol.find():\n",
    "  print(x)\n"
   ]
  },
  {
   "cell_type": "code",
   "execution_count": 22,
   "id": "4525134b",
   "metadata": {},
   "outputs": [
    {
     "name": "stdout",
     "output_type": "stream",
     "text": [
      "{'Name': 'Amit Yadav', 'Age': 25}\n",
      "{'Name': 'Dipak Pal', 'Age': 23}\n",
      "{'Name': 'Rahul Chauhan', 'Age': 21}\n"
     ]
    }
   ],
   "source": [
    "#With parameters\n",
    "import pymongo\n",
    "myclient=pymongo.MongoClient(\"mongodb://localhost:27017\")\n",
    "mydb=myclient[\"Students\"]\n",
    "mycol=mydb[\"Student_info\"]\n",
    "\n",
    "for x in mycol.find({},{\"_id\":0,\"Name\":1, \"Age\":1}):\n",
    "   print(x)"
   ]
  },
  {
   "cell_type": "markdown",
   "id": "bb16130e",
   "metadata": {},
   "source": [
    "# Update Operation"
   ]
  },
  {
   "cell_type": "code",
   "execution_count": 6,
   "id": "4c3cac1c",
   "metadata": {},
   "outputs": [
    {
     "name": "stdout",
     "output_type": "stream",
     "text": [
      "{'_id': 1, 'Name': 'Amit Yadav', 'Branch': 'CSE', 'Age': 25}\n",
      "{'_id': 2, 'Name': 'Dipak Pal', 'Branch': 'CSE', 'Age': 23}\n",
      "{'_id': 5, 'Name': 'Rahul Chauhan', 'Branch': 'CSE', 'Age': 21}\n"
     ]
    }
   ],
   "source": [
    "#Update one\n",
    "\n",
    "import pymongo\n",
    "\n",
    "myclient = pymongo.MongoClient(\"mongodb://localhost:27017/\")\n",
    "mydb = myclient[\"Students\"]\n",
    "mycol = mydb[\"Student_info\"]\n",
    "\n",
    "myquery = { \"Age\": \"22\" }\n",
    "newvalues = { \"$set\": { \"Age\": \"23\" } }\n",
    "\n",
    "mycol.update_one(myquery, newvalues)\n",
    "\n",
    "for x in mycol.find():\n",
    "  print(x)"
   ]
  },
  {
   "cell_type": "code",
   "execution_count": 7,
   "id": "97a42615",
   "metadata": {},
   "outputs": [
    {
     "name": "stdout",
     "output_type": "stream",
     "text": [
      "0 documents updated.\n"
     ]
    }
   ],
   "source": [
    "#Update Many\n",
    "import pymongo\n",
    "\n",
    "myclient = pymongo.MongoClient(\"mongodb://localhost:27017/\")\n",
    "mydb = myclient[\"Students\"]\n",
    "mycol = mydb[\"Student_info\"]\n",
    "\n",
    "myquery = { \"Name\": { \"$regex\": \"^A\" } } #Update all documents where the Name starts with the letter \"A\":\n",
    "newvalues = { \"$set\": { \"Age\": 25 } }\n",
    "\n",
    "x = mycol.update_many(myquery, newvalues)\n",
    "\n",
    "print(x.modified_count, \"documents updated.\")"
   ]
  },
  {
   "cell_type": "markdown",
   "id": "d93f2f90",
   "metadata": {},
   "source": [
    "# Delet Operations"
   ]
  },
  {
   "cell_type": "code",
   "execution_count": 8,
   "id": "c71d851b",
   "metadata": {},
   "outputs": [
    {
     "data": {
      "text/plain": [
       "<pymongo.results.DeleteResult at 0x22b6771ea00>"
      ]
     },
     "execution_count": 8,
     "metadata": {},
     "output_type": "execute_result"
    }
   ],
   "source": [
    "#Delet one\n",
    "\n",
    "import pymongo\n",
    "myclient = pymongo.MongoClient(\"mongodb://localhost:27017/\")\n",
    "mydb = myclient[\"Students\"]\n",
    "mycol = mydb[\"Student_info\"]\n",
    "myquery = { \"Name\": \"Zaheen Patel\" }\n",
    "\n",
    "mycol.delete_one(myquery)"
   ]
  },
  {
   "cell_type": "code",
   "execution_count": 9,
   "id": "aedb3117",
   "metadata": {},
   "outputs": [
    {
     "name": "stdout",
     "output_type": "stream",
     "text": [
      "0  documents deleted.\n"
     ]
    }
   ],
   "source": [
    "#Delet many documents\n",
    "import pymongo\n",
    "\n",
    "myclient = pymongo.MongoClient(\"mongodb://localhost:27017/\")\n",
    "mydb = myclient[\"Students\"]\n",
    "mycol = mydb[\"Student_info\"]\n",
    "\n",
    "myquery = { \"Name\": {\"$regex\": \"^T\"} }\n",
    "\n",
    "x = mycol.delete_many(myquery)\n",
    "\n",
    "print(x.deleted_count, \" documents deleted.\")"
   ]
  },
  {
   "cell_type": "markdown",
   "id": "32c782cc",
   "metadata": {},
   "source": [
    "# Delet Collction\n"
   ]
  },
  {
   "cell_type": "code",
   "execution_count": 10,
   "id": "f84db2f9",
   "metadata": {},
   "outputs": [],
   "source": [
    "import pymongo\n",
    "\n",
    "myclient = pymongo.MongoClient(\"mongodb://localhost:27017/\")\n",
    "mydb = myclient[\"mydatabase\"]\n",
    "mycol = mydb[\"customers\"]\n",
    "\n",
    "mycol.drop()"
   ]
  },
  {
   "cell_type": "code",
   "execution_count": null,
   "id": "52e4d51d",
   "metadata": {},
   "outputs": [],
   "source": []
  }
 ],
 "metadata": {
  "kernelspec": {
   "display_name": "Python 3 (ipykernel)",
   "language": "python",
   "name": "python3"
  },
  "language_info": {
   "codemirror_mode": {
    "name": "ipython",
    "version": 3
   },
   "file_extension": ".py",
   "mimetype": "text/x-python",
   "name": "python",
   "nbconvert_exporter": "python",
   "pygments_lexer": "ipython3",
   "version": "3.9.7"
  }
 },
 "nbformat": 4,
 "nbformat_minor": 5
}
