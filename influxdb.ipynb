{
 "cells": [
  {
   "cell_type": "markdown",
   "id": "ca8ff264",
   "metadata": {},
   "source": [
    "# Create Operation"
   ]
  },
  {
   "cell_type": "code",
   "execution_count": null,
   "id": "a72a7f40",
   "metadata": {},
   "outputs": [],
   "source": [
    "from influxdb_client import InfluxDBClient\n",
    "\n",
    "url = \"http://localhost:8086/\"\n",
    "token = \"A-oFHRsF5B9dOBOsW0EgO-0UCODnPlPz6X2kGrbquCP9q6jWUcsL8Y7oYaXOLsjrQN6cR4yxboPIy-aND8mziA==\"\n",
    "org = \"Machstatz\"\n",
    "client = InfluxDBClient(url=url, token=token, org=org)\n",
    "\n",
    "data_point = {\n",
    "    \"measurement\": \"temperature\",\n",
    "    \"tags\": {\n",
    "        \"location\": \"office\",\n",
    "        \"sensor\": \"A101\"\n",
    "    },\n",
    "    \"fields\": {\n",
    "        \"value\": 25.6\n",
    "    },\n",
    "    \"time\": \"2022-02-17T12:00:00Z\"\n",
    "}\n",
    "\n",
    "write_api = client.write_api()\n",
    "write_api.write(bucket=\"my-bucket\", record=data_point)\n",
    "\n"
   ]
  },
  {
   "cell_type": "markdown",
   "id": "13b9a98c",
   "metadata": {},
   "source": [
    "# Read Operation\n"
   ]
  },
  {
   "cell_type": "code",
   "execution_count": null,
   "id": "be5ea0fb",
   "metadata": {},
   "outputs": [],
   "source": [
    "from influxdb_client import InfluxDBClient\n",
    "from influxdb_client.client.write_api import SYNCHRONOUS\n",
    "\n",
    "token = \"A-oFHRsF5B9dOBOsW0EgO-0UCODnPlPz6X2kGrbquCP9q6jWUcsL8Y7oYaXOLsjrQN6cR4yxboPIy-aND8mziA==\"\n",
    "org = \"Machstatz\"\n",
    "bucket = \"my-bucket\"\n",
    "client = InfluxDBClient(url=\"http://localhost:8086\", token=token)\n",
    "\n",
    "# Create a query client to retrieve data\n",
    "query_api = client.query_api()\n",
    "\n",
    "# Define the InfluxQL query to retrieve the data\n",
    "query = f'from(bucket: \"{bucket}\") |> range(start: -1h) |> filter(fn: (r) => r._measurement == \"temperature\")'\n",
    "\n",
    "# Execute the query and get the results\n",
    "result = query_api.query(query, org=org)\n",
    "\n",
    "# Print the results\n",
    "for table in result:\n",
    "    for record in table.records:\n",
    "        print(f\"{record.time}: {record.value}\")\n"
   ]
  },
  {
   "cell_type": "markdown",
   "id": "870b1ac6",
   "metadata": {},
   "source": [
    "# Update operation"
   ]
  },
  {
   "cell_type": "code",
   "execution_count": null,
   "id": "6c92a496",
   "metadata": {},
   "outputs": [],
   "source": [
    "from influxdb_client import InfluxDBClient\n",
    "from influxdb_client.client.write_api import SYNCHRONOUS\n",
    "\n",
    "token = \"A-oFHRsF5B9dOBOsW0EgO-0UCODnPlPz6X2kGrbquCP9q6jWUcsL8Y7oYaXOLsjrQN6cR4yxboPIy-aND8mziA==\"\n",
    "org = \"Machstatz\"\n",
    "bucket = \"my-bucket\"\n",
    "client = InfluxDBClient(url=\"http://localhost:8086\", token=token)\n",
    "\n",
    "write_api = client.write_api(write_options=SYNCHRONOUS)\n",
    "\n",
    "# Define the data to be updated\n",
    "data = [\n",
    "    {\n",
    "        \"measurement\": \"temperature\",\n",
    "        \"tags\": {\n",
    "            \"location\": \"office\"\n",
    "            \"sensor\": \"A101\"\n",
    "        },\n",
    "        \"fields\": {\n",
    "            \"value\": 25.0\n",
    "        },\n",
    "        \"time\": \"2022-02-17T10:00:00Z\"\n",
    "    }\n",
    "]\n",
    "\n",
    "# Write the data to InfluxDB\n",
    "write_api.write(bucket=bucket, record=data, org=org)\n",
    "\n",
    "# Print confirmation message\n",
    "print(\"Data updated successfully!\")\n"
   ]
  },
  {
   "cell_type": "markdown",
   "id": "e5531e04",
   "metadata": {},
   "source": [
    "# Delet Operation"
   ]
  },
  {
   "cell_type": "code",
   "execution_count": null,
   "id": "568d9dd1",
   "metadata": {},
   "outputs": [],
   "source": [
    "from influxdb_client import InfluxDBClient\n",
    "from influxdb_client.client.write_api import SYNCHRONOUS\n",
    "\n",
    "token = \"\"A-oFHRsF5B9dOBOsW0EgO-0UCODnPlPz6X2kGrbquCP9q6jWUcsL8Y7oYaXOLsjrQN6cR4yxboPIy-aND8mziA==\"\n",
    "org = \"Machstatz\"\n",
    "bucket = \"my-bucket\"\n",
    "client = InfluxDBClient(url=\"http://localhost:8086\", token=token)\n",
    "\n",
    "delete_api = client.delete_api()\n",
    "\n",
    "# Define the InfluxQL query to delete the data\n",
    "query = f'delete from(bucket: \"{bucket}\") |> range(start: -1h) |> filter(fn: (r) => r._measurement == \"temperature\")'\n",
    "\n",
    "# Execute the query to delete the data\n",
    "result = delete_api.delete(query, org=org)\n",
    "\n",
    "# Print confirmation message\n",
    "print(\"Data deleted successfully!\")\n"
   ]
  }
 ],
 "metadata": {
  "kernelspec": {
   "display_name": "Python 3 (ipykernel)",
   "language": "python",
   "name": "python3"
  },
  "language_info": {
   "codemirror_mode": {
    "name": "ipython",
    "version": 3
   },
   "file_extension": ".py",
   "mimetype": "text/x-python",
   "name": "python",
   "nbconvert_exporter": "python",
   "pygments_lexer": "ipython3",
   "version": "3.9.7"
  }
 },
 "nbformat": 4,
 "nbformat_minor": 5
}
