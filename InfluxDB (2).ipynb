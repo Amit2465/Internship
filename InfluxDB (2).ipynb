{
 "cells": [
  {
   "cell_type": "markdown",
   "id": "0b71caef",
   "metadata": {},
   "source": [
    "# insert data in bucket"
   ]
  },
  {
   "cell_type": "code",
   "execution_count": 10,
   "id": "ccf712e2",
   "metadata": {},
   "outputs": [
    {
     "name": "stdout",
     "output_type": "stream",
     "text": [
      "Complete. Return to the InfluxDB UI.\n"
     ]
    }
   ],
   "source": [
    "import influxdb_client\n",
    "from influxdb_client import InfluxDBClient, Point, WritePrecision\n",
    "from influxdb_client.client.write_api import SYNCHRONOUS\n",
    "\n",
    "token =\"kakpZbyUo0uBubhA60ovsdmwe2O-sGpjXC9XcGDtyQrv3PAQbbxURLPWrmj-MCAImu4prq7gVpL71gRpIvyWYA==\"\n",
    "org = \"Amit\"\n",
    "url = \"https://us-east-1-1.aws.cloud2.influxdata.com\"\n",
    "\n",
    "write_client = influxdb_client.InfluxDBClient(url=url, token=token, org=org)\n",
    "\n",
    "bucket=\"21ecc1d89c410182\"\n",
    "\n",
    "# Using write api to write data points in influxdb \n",
    "write_api = write_client.write_api(write_options=SYNCHRONOUS)\n",
    "\n",
    "data = {\n",
    "  \"point1\": {\n",
    "    \"location\": \"Klamath\",\n",
    "    \"species\": \"bees\",\n",
    "    \"count\": 23,\n",
    "  },\n",
    "  \"point2\": {\n",
    "    \"location\": \"Portland\",\n",
    "    \"species\": \"ants\",\n",
    "    \"count\": 30,\n",
    "  },\n",
    "  \"point3\": {\n",
    "    \"location\": \"Klamath\",\n",
    "    \"species\": \"bees\",\n",
    "    \"count\": 28,\n",
    "  },\n",
    "  \"point4\": {\n",
    "    \"location\": \"Portland\",\n",
    "    \"species\": \"ants\",\n",
    "    \"count\": 32,\n",
    "  },\n",
    "  \"point5\": {\n",
    "    \"location\": \"Klamath\",\n",
    "    \"species\": \"bees\",\n",
    "    \"count\": 29,\n",
    "  },\n",
    "  \"point6\": {\n",
    "    \"location\": \"Portland\",\n",
    "    \"species\": \"ants\",\n",
    "    \"count\": 40,\n",
    "  },\n",
    "}\n",
    "\n",
    "for key in data:\n",
    "  point = (\n",
    "    Point(\"census\")\n",
    "    .tag(\"location\", data[key][\"location\"])\n",
    "    .field(data[key][\"species\"], data[key][\"count\"])\n",
    "  )\n",
    "  write_api.write(bucket=bucket, org=org, record=point)\n",
    "  time.sleep(1) # separate points by 1 second\n",
    "\n",
    "print(\"Complete. Return to the InfluxDB UI.\")\n"
   ]
  },
  {
   "cell_type": "markdown",
   "id": "20f59d31",
   "metadata": {},
   "source": [
    "# Second Bucket"
   ]
  },
  {
   "cell_type": "code",
   "execution_count": 28,
   "id": "75caac62",
   "metadata": {},
   "outputs": [],
   "source": [
    "import influxdb_client\n",
    "from influxdb_client.client.write_api import SYNCHRONOUS\n",
    "\n",
    "bucket = \"fb45e9e6dd092325\"\n",
    "org = \"Amit\"\n",
    "token = \"kakpZbyUo0uBubhA60ovsdmwe2O-sGpjXC9XcGDtyQrv3PAQbbxURLPWrmj-MCAImu4prq7gVpL71gRpIvyWYA==\"\n",
    "url=\"https://us-east-1-1.aws.cloud2.influxdata.com\"\n",
    "\n",
    "client = influxdb_client.InfluxDBClient(\n",
    "    url=url,\n",
    "    token=token,\n",
    "    org=org\n",
    ")\n",
    "\n",
    "\n",
    "write_api = client.write_api(write_options=SYNCHRONOUS)\n",
    "\n",
    "p = influxdb_client.Point(\"my_measurement\").tag(\"location\", \"Prague\").field(\"temperature\", 25.3)\n",
    "write_api.write(bucket=bucket, org=org, record=p)\n"
   ]
  },
  {
   "cell_type": "markdown",
   "id": "cda33160",
   "metadata": {},
   "source": [
    "# Reading "
   ]
  },
  {
   "cell_type": "code",
   "execution_count": 5,
   "id": "c6d234d1",
   "metadata": {},
   "outputs": [
    {
     "name": "stdout",
     "output_type": "stream",
     "text": [
      "[('temperature', 25.3)]\n"
     ]
    }
   ],
   "source": [
    "import influxdb_client\n",
    "from influxdb_client.client.write_api import SYNCHRONOUS\n",
    "\n",
    "bucket = \"fb45e9e6dd092325\"\n",
    "org = \"Amit\"\n",
    "token = \"kakpZbyUo0uBubhA60ovsdmwe2O-sGpjXC9XcGDtyQrv3PAQbbxURLPWrmj-MCAImu4prq7gVpL71gRpIvyWYA==\"\n",
    "url=\"https://us-east-1-1.aws.cloud2.influxdata.com\"\n",
    "\n",
    "client = influxdb_client.InfluxDBClient(\n",
    "    url=url,\n",
    "    token=token,\n",
    "    org=org\n",
    ")\n",
    "\n",
    "# Using the query_api to retrieve data from an InfluxDB database \n",
    "query_api = client.query_api()\n",
    "#Createing a Flux query, and then format it as a Python string\n",
    "query = 'from(bucket:\"temp\")\\\n",
    "|> range(start: -0)\\\n",
    "|> filter(fn:(r) => r._measurement == \"my_measurement\")\\\n",
    "|> filter(fn:(r) => r.location == \"Prague\")\\\n",
    "|> filter(fn:(r) => r._field == \"temperature\")'\n",
    "result = query_api.query(org=org, query=query)\n",
    "results = []\n",
    "for table in result:\n",
    "    for record in table.records:\n",
    "        results.append((record.get_field(), record.get_value()))\n",
    "\n",
    "print(results)"
   ]
  },
  {
   "cell_type": "markdown",
   "id": "47e35d82",
   "metadata": {},
   "source": [
    "# Delet Data"
   ]
  },
  {
   "cell_type": "code",
   "execution_count": 8,
   "id": "b017c30c",
   "metadata": {},
   "outputs": [],
   "source": [
    "from influxdb_client import InfluxDBClient\n",
    "\n",
    "client = InfluxDBClient(\n",
    "    url=\"https://us-east-1-1.aws.cloud2.influxdata.com\", \n",
    "    token=\"kakpZbyUo0uBubhA60ovsdmwe2O-sGpjXC9XcGDtyQrv3PAQbbxURLPWrmj-MCAImu4prq7gVpL71gRpIvyWYA==\"\n",
    ")\n",
    "# Using delete_api to execute delete operations against an InfluxDB database,\n",
    "delete_api = client.delete_api()\n",
    "\n",
    "\n",
    "#Delete Data using timestamp\n",
    "\n",
    "start = \"2023-02-21T14:59:25Z\"\n",
    "stop = \"2023-02-21T19:45:00Z\"\n",
    "delete_api.delete(start, stop ,'_measurement=\"my_measurement\"', bucket='temp', org='Amit')\n",
    "\n",
    "\n",
    "client.close()"
   ]
  }
 ],
 "metadata": {
  "kernelspec": {
   "display_name": "Python 3 (ipykernel)",
   "language": "python",
   "name": "python3"
  },
  "language_info": {
   "codemirror_mode": {
    "name": "ipython",
    "version": 3
   },
   "file_extension": ".py",
   "mimetype": "text/x-python",
   "name": "python",
   "nbconvert_exporter": "python",
   "pygments_lexer": "ipython3",
   "version": "3.9.7"
  }
 },
 "nbformat": 4,
 "nbformat_minor": 5
}
